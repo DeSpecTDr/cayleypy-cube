{
 "cells": [
  {
   "cell_type": "code",
   "execution_count": 1,
   "id": "6c3d451e",
   "metadata": {
    "ExecuteTime": {
     "end_time": "2025-04-11T08:15:17.210658Z",
     "start_time": "2025-04-11T08:15:14.736490Z"
    }
   },
   "outputs": [],
   "source": [
    "import torch\n",
    "import numpy as np\n",
    "\n",
    "from math import factorial, log2, log10, ceil\n",
    "import matplotlib.pyplot as plt\n",
    "plt.rcParams[\"font.family\"] = \"serif\"\n",
    "\n",
    "import json\n",
    "from tqdm import tqdm"
   ]
  },
  {
   "cell_type": "code",
   "execution_count": 6,
   "id": "8f69c43a",
   "metadata": {
    "ExecuteTime": {
     "end_time": "2025-04-11T08:15:46.758669Z",
     "start_time": "2025-04-11T08:15:46.746908Z"
    }
   },
   "outputs": [],
   "source": [
    "n = 5\n",
    "\n",
    "# LRX\n",
    "def get_moves(n):\n",
    "    L = np.roll(np.arange(n), -1)\n",
    "    R = np.roll(np.arange(n), 1)\n",
    "    X = np.arange(n)\n",
    "    X[0], X[1] = X[1], X[0]\n",
    "    return np.stack((L,R,X,X))\n",
    "\n",
    "def get_target(n):\n",
    "    return np.arange(n)"
   ]
  },
  {
   "cell_type": "markdown",
   "id": "40204448",
   "metadata": {},
   "source": [
    "## Save generators"
   ]
  },
  {
   "cell_type": "code",
   "execution_count": 7,
   "id": "5b6f9263",
   "metadata": {
    "ExecuteTime": {
     "end_time": "2025-04-11T08:15:48.104286Z",
     "start_time": "2025-04-11T08:15:48.096960Z"
    }
   },
   "outputs": [],
   "source": [
    "j_shift = 34 # n=10:34, n=15:35, n=20:36, n=25:37, ..."
   ]
  },
  {
   "cell_type": "code",
   "execution_count": 8,
   "id": "1f23a67e",
   "metadata": {
    "ExecuteTime": {
     "end_time": "2025-04-11T08:15:48.547895Z",
     "start_time": "2025-04-11T08:15:48.522569Z"
    }
   },
   "outputs": [
    {
     "name": "stdout",
     "output_type": "stream",
     "text": [
      "p   | puzzle    | #actions | # unique elements | # elements |\n",
      "034 | LRX_10    | 4        | 10                | 10         |\n",
      "035 | LRX_15    | 4        | 15                | 15         |\n",
      "036 | LRX_20    | 4        | 20                | 20         |\n",
      "037 | LRX_25    | 4        | 25                | 25         |\n",
      "038 | LRX_30    | 4        | 30                | 30         |\n",
      "039 | LRX_35    | 4        | 35                | 35         |\n",
      "040 | LRX_40    | 4        | 40                | 40         |\n",
      "041 | LRX_45    | 4        | 45                | 45         |\n",
      "042 | LRX_50    | 4        | 50                | 50         |\n",
      "043 | LRX_55    | 4        | 55                | 55         |\n"
     ]
    }
   ],
   "source": [
    "print(f\"p   | {'puzzle':9s} | #actions | # unique elements | # elements |\")\n",
    "for j in range(10):\n",
    "    n = 5*j+10\n",
    "\n",
    "    actions = get_moves(n).tolist()\n",
    "    names = [\"L\", \"L'\", \"X\", \"X'\"]\n",
    "\n",
    "    generators = {'actions':actions, 'names':names}\n",
    "    solution_state = get_target(n)\n",
    "\n",
    "    with open(f'../generators/p{j+j_shift:03d}.json', 'w') as f:\n",
    "        json.dump(generators, f)\n",
    "\n",
    "    print(f\"{j+j_shift:03d} | LRX_{str(n):5s} | {len(actions)}        | {str(n):17s} | {str(n):10s} |\")"
   ]
  },
  {
   "cell_type": "code",
   "execution_count": 20,
   "id": "2b83e3db",
   "metadata": {
    "ExecuteTime": {
     "end_time": "2025-04-11T09:04:55.607360Z",
     "start_time": "2025-04-11T09:04:55.600586Z"
    }
   },
   "outputs": [
    {
     "name": "stdout",
     "output_type": "stream",
     "text": [
      "300.0\n",
      "25\n"
     ]
    }
   ],
   "source": [
    "n = 25\n",
    "print(n*(n-1)/2)\n",
    "print(round(log10(factorial(n))))"
   ]
  },
  {
   "cell_type": "markdown",
   "id": "a5936d53",
   "metadata": {},
   "source": [
    "## Save datasets"
   ]
  },
  {
   "cell_type": "code",
   "execution_count": 9,
   "id": "b0a16f35",
   "metadata": {
    "ExecuteTime": {
     "end_time": "2025-04-11T08:16:21.677532Z",
     "start_time": "2025-04-11T08:16:21.661764Z"
    }
   },
   "outputs": [],
   "source": [
    "def generate_inverse_moves(moves):\n",
    "    \"\"\"Generate the inverse moves for a given list of moves.\"\"\"\n",
    "    inverse_moves = [0] * len(moves)\n",
    "    for i, move in enumerate(moves):\n",
    "        if \"'\" in move:  # It's an a_j'\n",
    "            inverse_moves[i] = moves.index(move.replace(\"'\", \"\"))\n",
    "        else:  # It's an a_j\n",
    "            inverse_moves[i] = moves.index(move + \"'\")\n",
    "    return inverse_moves\n",
    "\n",
    "def random_step(states, last_moves):\n",
    "    \"\"\"Perform a random step while avoiding inverse moves.\"\"\"\n",
    "    possible_moves = torch.ones((states.size(0), all_moves.size(0)), dtype=torch.bool, device=states.device)\n",
    "    possible_moves[torch.arange(states.size(0), device=states.device), inverse_moves[last_moves]] = False\n",
    "    next_moves = torch.multinomial(possible_moves.float(), 1).squeeze()\n",
    "    new_states = torch.gather(states, 1, all_moves[next_moves])\n",
    "    return new_states, next_moves"
   ]
  },
  {
   "cell_type": "code",
   "execution_count": 12,
   "id": "cdae8cf9",
   "metadata": {
    "ExecuteTime": {
     "end_time": "2025-04-11T08:17:21.191414Z",
     "start_time": "2025-04-11T08:17:18.264735Z"
    }
   },
   "outputs": [
    {
     "name": "stdout",
     "output_type": "stream",
     "text": [
      "043.000\r"
     ]
    }
   ],
   "source": [
    "N = 100\n",
    "for j in range(10):\n",
    "    n = 5*j+10\n",
    "    k = 0\n",
    "\n",
    "    solution_state = np.arange(n)\n",
    "\n",
    "    with open(f'../generators/p{j+j_shift:03d}.json', 'r') as f:\n",
    "        all_moves, move_names = json.load(f).values()\n",
    "        all_moves = torch.tensor(all_moves, dtype=torch.int64)\n",
    "\n",
    "    num_elements = len(np.unique(solution_state))\n",
    "    b = max(3, ceil(log2(log2(num_elements))))\n",
    "    dtype = {3:torch.int8, 4:torch.int16, 5:torch.int32, 6:torch.int64}[b]\n",
    "\n",
    "    if num_elements >= 2**(2**b-1):\n",
    "        shift = 2**(2**b-1)\n",
    "    else:\n",
    "        shift = 0\n",
    "\n",
    "    solution_state = torch.tensor(np.array(solution_state) - shift, dtype=dtype)\n",
    "\n",
    "    inverse_moves = torch.tensor(generate_inverse_moves(move_names), dtype=torch.int64)\n",
    "\n",
    "    last_moves = torch.full((N,), -1, dtype=torch.int64)\n",
    "    rnd_states = solution_state[None].expand(N, -1)\n",
    "\n",
    "    for _ in range(10_000):\n",
    "        rnd_states, last_moves = random_step(rnd_states, last_moves)\n",
    "\n",
    "    mask = torch.randint(0, 2, (N,), dtype=torch.bool)\n",
    "    rnd_states[mask], _ = random_step(rnd_states[mask], last_moves[mask])\n",
    "\n",
    "    torch.save(rnd_states, f\"../datasets/p{j+j_shift:03d}-t{k:03d}-rnd.pt\")\n",
    "    torch.save(solution_state, f\"../targets/p{j+j_shift:03d}-t{k:03d}.pt\")\n",
    "\n",
    "    print(f\"{j+j_shift:03d}.{k:03d}\", end='\\r')"
   ]
  },
  {
   "cell_type": "code",
   "execution_count": null,
   "id": "4d3cd1ea",
   "metadata": {},
   "outputs": [],
   "source": []
  },
  {
   "cell_type": "code",
   "execution_count": null,
   "id": "81fb2fe8",
   "metadata": {},
   "outputs": [],
   "source": []
  }
 ],
 "metadata": {
  "kernelspec": {
   "display_name": "Python (ka1242_env)",
   "language": "python",
   "name": "ka1242_env"
  },
  "language_info": {
   "codemirror_mode": {
    "name": "ipython",
    "version": 3
   },
   "file_extension": ".py",
   "mimetype": "text/x-python",
   "name": "python",
   "nbconvert_exporter": "python",
   "pygments_lexer": "ipython3",
   "version": "3.9.16"
  }
 },
 "nbformat": 4,
 "nbformat_minor": 5
}
