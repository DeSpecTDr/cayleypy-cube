{
 "cells": [
  {
   "cell_type": "code",
   "execution_count": 2,
   "id": "87ad5564",
   "metadata": {
    "ExecuteTime": {
     "end_time": "2025-04-14T09:19:38.918141Z",
     "start_time": "2025-04-14T09:19:38.906352Z"
    }
   },
   "outputs": [],
   "source": [
    "import torch\n",
    "import numpy as np\n",
    "\n",
    "from math import factorial, log2, log10, ceil\n",
    "import matplotlib.pyplot as plt\n",
    "plt.rcParams[\"font.family\"] = \"serif\"\n",
    "\n",
    "import json\n",
    "from tqdm import tqdm"
   ]
  },
  {
   "cell_type": "code",
   "execution_count": 46,
   "id": "2b066ce0",
   "metadata": {
    "ExecuteTime": {
     "end_time": "2025-04-14T09:36:54.091379Z",
     "start_time": "2025-04-14T09:36:54.082414Z"
    }
   },
   "outputs": [],
   "source": [
    "# pancake\n",
    "def get_move(n, k):\n",
    "    p = np.arange(n)\n",
    "    p[:k] = p[:k][::-1]\n",
    "    return p\n",
    "\n",
    "def get_moves(n):\n",
    "    return np.stack([get_move(n, k) for k in range(2, n+1)]).repeat(2, axis=0)\n",
    "\n",
    "def get_target(n):\n",
    "    return np.arange(n)"
   ]
  },
  {
   "cell_type": "code",
   "execution_count": 47,
   "id": "9133c8ea",
   "metadata": {
    "ExecuteTime": {
     "end_time": "2025-04-14T09:36:55.670525Z",
     "start_time": "2025-04-14T09:36:55.665737Z"
    }
   },
   "outputs": [],
   "source": [
    "j_shift = 44"
   ]
  },
  {
   "cell_type": "code",
   "execution_count": 48,
   "id": "fc42edd8",
   "metadata": {
    "ExecuteTime": {
     "end_time": "2025-04-14T09:37:00.377023Z",
     "start_time": "2025-04-14T09:37:00.322158Z"
    }
   },
   "outputs": [
    {
     "name": "stdout",
     "output_type": "stream",
     "text": [
      "p   | puzzle     | #actions   | # unique elements | # elements |\n",
      "044 | pancake_10 | 18         | 10                | 10         |\n",
      "045 | pancake_15 | 28         | 15                | 15         |\n",
      "046 | pancake_20 | 38         | 20                | 20         |\n",
      "047 | pancake_25 | 48         | 25                | 25         |\n",
      "048 | pancake_30 | 58         | 30                | 30         |\n",
      "049 | pancake_35 | 68         | 35                | 35         |\n",
      "050 | pancake_40 | 78         | 40                | 40         |\n",
      "051 | pancake_45 | 88         | 45                | 45         |\n",
      "052 | pancake_50 | 98         | 50                | 50         |\n",
      "053 | pancake_55 | 108        | 55                | 55         |\n"
     ]
    }
   ],
   "source": [
    "print(f\"p   | {'puzzle':10s} | #actions   | # unique elements | # elements |\")\n",
    "for j in range(10):\n",
    "    n = 5*j+10\n",
    "\n",
    "    actions = get_moves(n).tolist()\n",
    "    names = []\n",
    "    for i in range(2, n+1):\n",
    "        names.append(str(i))\n",
    "        names.append(str(i)+\"'\")\n",
    "\n",
    "    generators = {'actions':actions, 'names':names}\n",
    "    solution_state = get_target(n)\n",
    "\n",
    "    with open(f'../generators/p{j+j_shift:03d}.json', 'w') as f:\n",
    "        json.dump(generators, f)\n",
    "\n",
    "    print(f\"{j+j_shift:03d} | pancake_{str(n):2s} | {str(len(actions)):3s}        | {str(n):17s} | {str(n):10s} |\")"
   ]
  },
  {
   "cell_type": "code",
   "execution_count": 49,
   "id": "850ea16a",
   "metadata": {
    "ExecuteTime": {
     "end_time": "2025-04-14T09:37:11.919556Z",
     "start_time": "2025-04-14T09:37:11.906209Z"
    }
   },
   "outputs": [],
   "source": [
    "def generate_inverse_moves(moves):\n",
    "    \"\"\"Generate the inverse moves for a given list of moves.\"\"\"\n",
    "    inverse_moves = [0] * len(moves)\n",
    "    for i, move in enumerate(moves):\n",
    "        if \"'\" in move:  # It's an a_j'\n",
    "            inverse_moves[i] = moves.index(move.replace(\"'\", \"\"))\n",
    "        else:  # It's an a_j\n",
    "            inverse_moves[i] = moves.index(move + \"'\")\n",
    "    return inverse_moves\n",
    "\n",
    "def random_step(states, last_moves):\n",
    "    \"\"\"Perform a random step while avoiding inverse moves.\"\"\"\n",
    "    possible_moves = torch.ones((states.size(0), all_moves.size(0)), dtype=torch.bool, device=states.device)\n",
    "    possible_moves[torch.arange(states.size(0), device=states.device), inverse_moves[last_moves]] = False\n",
    "    next_moves = torch.multinomial(possible_moves.float(), 1).squeeze()\n",
    "    new_states = torch.gather(states, 1, all_moves[next_moves])\n",
    "    return new_states, next_moves"
   ]
  },
  {
   "cell_type": "code",
   "execution_count": null,
   "id": "2f3f3839",
   "metadata": {
    "ExecuteTime": {
     "start_time": "2025-04-14T09:37:26.508Z"
    }
   },
   "outputs": [
    {
     "name": "stdout",
     "output_type": "stream",
     "text": [
      "045.000\r"
     ]
    }
   ],
   "source": [
    "N = 100\n",
    "for j in range(10):\n",
    "    n = 5*j+10\n",
    "    k = 0\n",
    "\n",
    "    solution_state = np.arange(n)\n",
    "\n",
    "    with open(f'../generators/p{j+j_shift:03d}.json', 'r') as f:\n",
    "        all_moves, move_names = json.load(f).values()\n",
    "        all_moves = torch.tensor(all_moves, dtype=torch.int64)\n",
    "\n",
    "    num_elements = len(np.unique(solution_state))\n",
    "    b = max(3, ceil(log2(log2(num_elements))))\n",
    "    dtype = {3:torch.int8, 4:torch.int16, 5:torch.int32, 6:torch.int64}[b]\n",
    "\n",
    "    if num_elements >= 2**(2**b-1):\n",
    "        shift = 2**(2**b-1)\n",
    "    else:\n",
    "        shift = 0\n",
    "\n",
    "    solution_state = torch.tensor(np.array(solution_state) - shift, dtype=dtype)\n",
    "\n",
    "    inverse_moves = torch.tensor(generate_inverse_moves(move_names), dtype=torch.int64)\n",
    "\n",
    "    last_moves = torch.full((N,), -1, dtype=torch.int64)\n",
    "    rnd_states = solution_state[None].expand(N, -1)\n",
    "\n",
    "    for _ in range(10_000):\n",
    "        rnd_states, last_moves = random_step(rnd_states, last_moves)\n",
    "\n",
    "    mask = torch.randint(0, 2, (N,), dtype=torch.bool)\n",
    "    rnd_states[mask], _ = random_step(rnd_states[mask], last_moves[mask])\n",
    "\n",
    "    torch.save(rnd_states, f\"../datasets/p{j+j_shift:03d}-t{k:03d}-rnd.pt\")\n",
    "    torch.save(solution_state, f\"../targets/p{j+j_shift:03d}-t{k:03d}.pt\")\n",
    "\n",
    "    print(f\"{j+j_shift:03d}.{k:03d}\", end='\\r')"
   ]
  },
  {
   "cell_type": "code",
   "execution_count": 51,
   "id": "ee70014d",
   "metadata": {
    "ExecuteTime": {
     "end_time": "2025-04-14T09:37:17.914238Z",
     "start_time": "2025-04-14T09:37:17.904306Z"
    }
   },
   "outputs": [
    {
     "data": {
      "text/plain": [
       "tensor([[20, 43, 44,  ..., 15, 14, 24],\n",
       "        [32,  1,  0,  ...,  2, 33, 20],\n",
       "        [12, 21, 37,  ..., 25,  0, 45],\n",
       "        ...,\n",
       "        [35, 45, 39,  ..., 24, 17, 16],\n",
       "        [25, 52,  0,  ..., 35,  2, 49],\n",
       "        [ 5,  4, 49,  ...,  7,  8, 22]], dtype=torch.int8)"
      ]
     },
     "execution_count": 51,
     "metadata": {},
     "output_type": "execute_result"
    }
   ],
   "source": [
    "rnd_states"
   ]
  },
  {
   "cell_type": "code",
   "execution_count": null,
   "id": "3592a233",
   "metadata": {},
   "outputs": [],
   "source": []
  },
  {
   "cell_type": "code",
   "execution_count": null,
   "id": "5403d695",
   "metadata": {},
   "outputs": [],
   "source": []
  }
 ],
 "metadata": {
  "kernelspec": {
   "display_name": "Python (ka1242_env)",
   "language": "python",
   "name": "ka1242_env"
  },
  "language_info": {
   "codemirror_mode": {
    "name": "ipython",
    "version": 3
   },
   "file_extension": ".py",
   "mimetype": "text/x-python",
   "name": "python",
   "nbconvert_exporter": "python",
   "pygments_lexer": "ipython3",
   "version": "3.9.16"
  }
 },
 "nbformat": 4,
 "nbformat_minor": 5
}
