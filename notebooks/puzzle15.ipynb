{
 "cells": [
  {
   "cell_type": "code",
   "execution_count": 79,
   "id": "96755401",
   "metadata": {
    "ExecuteTime": {
     "end_time": "2025-04-10T21:24:20.185889Z",
     "start_time": "2025-04-10T21:24:20.176660Z"
    }
   },
   "outputs": [],
   "source": [
    "import torch\n",
    "import numpy as np\n",
    "\n",
    "from math import factorial, log2, log10, ceil\n",
    "import matplotlib.pyplot as plt\n",
    "plt.rcParams[\"font.family\"] = \"serif\"\n",
    "\n",
    "import json\n",
    "from tqdm import tqdm"
   ]
  },
  {
   "cell_type": "code",
   "execution_count": 3,
   "id": "f5abb131",
   "metadata": {
    "ExecuteTime": {
     "end_time": "2025-04-10T16:24:20.014476Z",
     "start_time": "2025-04-10T16:24:20.007612Z"
    }
   },
   "outputs": [],
   "source": [
    "def state2im(state):\n",
    "    M = np.zeros((2*n-1,2*n-1), dtype=int)\n",
    "    M[n-1:, n-1:] = np.concatenate(([0], state[:n**2-1])).reshape(n,n)\n",
    "    M[np.arange(n-1)] = M[np.arange(n-1)+n]\n",
    "    M[:, np.arange(n-1)] = M[:, np.arange(n-1)+n]\n",
    "    idx_hor, idx_ver = n-1-state[n*n-1], n-1-state[n*(n+1)-1]\n",
    "    return M[idx_ver:idx_ver+n, idx_hor:idx_hor+n]"
   ]
  },
  {
   "cell_type": "code",
   "execution_count": 34,
   "id": "710bf021",
   "metadata": {
    "ExecuteTime": {
     "end_time": "2025-04-10T21:07:31.568162Z",
     "start_time": "2025-04-10T21:07:31.547174Z"
    }
   },
   "outputs": [],
   "source": [
    "def get_target(n):\n",
    "    V0 = np.concatenate((\n",
    "        np.arange(n**2-1)+1, \n",
    "        np.roll(np.arange(n)[::-1], 1), \n",
    "        np.roll(np.arange(n)[::-1], 1)\n",
    "    ))\n",
    "    return V0\n",
    "\n",
    "def get_moves(n):\n",
    "    idx = np.arange(n)\n",
    "\n",
    "    mr = np.arange(n**2).reshape(n,n)-1\n",
    "    mr[0,1:] = np.roll(mr[0,1:], -1)\n",
    "    for j in range(1, n):\n",
    "        mr[j,:] = np.roll(mr[j,:], -1)\n",
    "    mr = mr.reshape(-1)[1:]\n",
    "\n",
    "    md = np.arange(n**2).reshape(n,n)-1\n",
    "    md[1:,0] = np.roll(md[1:,0], -1)\n",
    "    for j in range(1, n):\n",
    "        md[:,j] = np.roll(md[:,j], -1)\n",
    "    md = md.reshape(-1)[1:]\n",
    "\n",
    "    gr = np.concatenate((mr, np.roll(idx, 1)+n*n-1, idx+n*(n+1)-1))\n",
    "    gd = np.concatenate((md, idx+n*n-1, np.roll(idx, 1)+n*(n+1)-1))\n",
    "\n",
    "    gl = np.argsort(gr)\n",
    "    gu = np.argsort(gd)\n",
    "    \n",
    "    return np.stack((gr, gl, gd, gu))"
   ]
  },
  {
   "cell_type": "markdown",
   "id": "15cad5b7",
   "metadata": {},
   "source": [
    "## Test"
   ]
  },
  {
   "cell_type": "code",
   "execution_count": 88,
   "id": "4e25183c",
   "metadata": {
    "ExecuteTime": {
     "end_time": "2025-04-10T22:30:24.030704Z",
     "start_time": "2025-04-10T22:30:24.018178Z"
    }
   },
   "outputs": [
    {
     "name": "stdout",
     "output_type": "stream",
     "text": [
      "[1 2 3 4 5 6 7 8 0 2 1 0 2 1]\n",
      "[ 1  0  3  4  2  6  7  5 10  8  9 11 12 13]\n",
      "[ 3  4  5  6  7  2  0  1  8  9 10 13 11 12]\n"
     ]
    }
   ],
   "source": [
    "n = 3\n",
    "\n",
    "V0 = get_target(n)\n",
    "(gr, gl, gd, gu) = get_moves(n)\n",
    "\n",
    "print(V0)\n",
    "print(gr)\n",
    "print(gd)"
   ]
  },
  {
   "cell_type": "code",
   "execution_count": 90,
   "id": "cae35dea",
   "metadata": {
    "ExecuteTime": {
     "end_time": "2025-04-10T22:30:34.365115Z",
     "start_time": "2025-04-10T22:30:34.349850Z"
    },
    "scrolled": true
   },
   "outputs": [
    {
     "name": "stdout",
     "output_type": "stream",
     "text": [
      "initial state:\n",
      "[[0 1 2]\n",
      " [3 4 5]\n",
      " [6 7 8]]\n",
      "step down:\n",
      "[[3 1 2]\n",
      " [0 4 5]\n",
      " [6 7 8]]\n",
      "step right:\n",
      "[[3 1 2]\n",
      " [4 0 5]\n",
      " [6 7 8]]\n"
     ]
    }
   ],
   "source": [
    "state = V0.copy()\n",
    "print(\"initial state:\\n\", state2im(state), sep='')\n",
    "state = state[gd]\n",
    "print(\"step down:\\n\", state2im(state), sep='')\n",
    "state = state[gr]\n",
    "print(\"step right:\\n\", state2im(state), sep='')"
   ]
  },
  {
   "cell_type": "code",
   "execution_count": 91,
   "id": "faac0e6b",
   "metadata": {
    "ExecuteTime": {
     "end_time": "2025-04-10T22:30:41.993540Z",
     "start_time": "2025-04-10T22:30:41.978851Z"
    }
   },
   "outputs": [
    {
     "name": "stdout",
     "output_type": "stream",
     "text": [
      "initial state:\n",
      "[[0 1 2]\n",
      " [3 4 5]\n",
      " [6 7 8]]\n",
      "step right:\n",
      "[[1 0 2]\n",
      " [3 4 5]\n",
      " [6 7 8]]\n",
      "step down:\n",
      "[[1 4 2]\n",
      " [3 0 5]\n",
      " [6 7 8]]\n"
     ]
    }
   ],
   "source": [
    "state = V0.copy()\n",
    "print(\"initial state:\\n\", state2im(state), sep='')\n",
    "state = state[gr]\n",
    "print(\"step right:\\n\", state2im(state), sep='')\n",
    "state = state[gd]\n",
    "print(\"step down:\\n\", state2im(state), sep='')"
   ]
  },
  {
   "cell_type": "markdown",
   "id": "84e30070",
   "metadata": {},
   "source": [
    "## Save generators"
   ]
  },
  {
   "cell_type": "code",
   "execution_count": 71,
   "id": "7f0a350d",
   "metadata": {
    "ExecuteTime": {
     "end_time": "2025-04-10T21:22:32.538897Z",
     "start_time": "2025-04-10T21:22:32.531883Z"
    }
   },
   "outputs": [],
   "source": [
    "j_shift = 26 # n=3:26, n=4:27, n=5:28, n=6:29"
   ]
  },
  {
   "cell_type": "code",
   "execution_count": 69,
   "id": "e73e219e",
   "metadata": {
    "ExecuteTime": {
     "end_time": "2025-04-10T21:20:50.982403Z",
     "start_time": "2025-04-10T21:20:50.953283Z"
    }
   },
   "outputs": [
    {
     "name": "stdout",
     "output_type": "stream",
     "text": [
      "p   | puzzle       | #actions | # unique elements | # elements |\n",
      "026 | puzzle_8     | 4        | 14                | 8          |\n",
      "027 | puzzle_15    | 4        | 23                | 15         |\n",
      "028 | puzzle_24    | 4        | 34                | 24         |\n",
      "029 | puzzle_35    | 4        | 47                | 35         |\n",
      "030 | puzzle_48    | 4        | 62                | 48         |\n",
      "031 | puzzle_63    | 4        | 79                | 63         |\n",
      "032 | puzzle_80    | 4        | 98                | 80         |\n",
      "033 | puzzle_99    | 4        | 119               | 99         |\n"
     ]
    }
   ],
   "source": [
    "print(f\"p   | {'puzzle':12s} | #actions | # unique elements | # elements |\")\n",
    "for j in range(8):\n",
    "    n = j+3\n",
    "\n",
    "    actions = get_moves(n).tolist()\n",
    "    names = [\"r\", \"r'\", \"d\", \"d'\"]\n",
    "\n",
    "    generators = {'actions':actions, 'names':names}\n",
    "    solution_state = get_target(n)\n",
    "\n",
    "    with open(f'../generators/p{j+j_shift:03d}.json', 'w') as f:\n",
    "        json.dump(generators, f)\n",
    "\n",
    "    print(f\"{j+j_shift:03d} | puzzle_{str(n**2-1):5s} | {len(actions)}        | {str(n*(2+n)-1):17s} | {str(n*n-1):10s} |\")"
   ]
  },
  {
   "cell_type": "markdown",
   "id": "953c1d3c",
   "metadata": {},
   "source": [
    "## Save datasets"
   ]
  },
  {
   "cell_type": "code",
   "execution_count": 70,
   "id": "bd2c344f",
   "metadata": {
    "ExecuteTime": {
     "end_time": "2025-04-10T21:21:33.773038Z",
     "start_time": "2025-04-10T21:21:33.756286Z"
    }
   },
   "outputs": [],
   "source": [
    "def generate_inverse_moves(moves):\n",
    "    \"\"\"Generate the inverse moves for a given list of moves.\"\"\"\n",
    "    inverse_moves = [0] * len(moves)\n",
    "    for i, move in enumerate(moves):\n",
    "        if \"'\" in move:  # It's an a_j'\n",
    "            inverse_moves[i] = moves.index(move.replace(\"'\", \"\"))\n",
    "        else:  # It's an a_j\n",
    "            inverse_moves[i] = moves.index(move + \"'\")\n",
    "    return inverse_moves\n",
    "\n",
    "def random_step(states, last_moves):\n",
    "    \"\"\"Perform a random step while avoiding inverse moves.\"\"\"\n",
    "    possible_moves = torch.ones((states.size(0), all_moves.size(0)), dtype=torch.bool, device=states.device)\n",
    "    possible_moves[torch.arange(states.size(0), device=states.device), inverse_moves[last_moves]] = False\n",
    "    next_moves = torch.multinomial(possible_moves.float(), 1).squeeze()\n",
    "    new_states = torch.gather(states, 1, all_moves[next_moves])\n",
    "    return new_states, next_moves"
   ]
  },
  {
   "cell_type": "code",
   "execution_count": 85,
   "id": "3799fdf0",
   "metadata": {
    "ExecuteTime": {
     "end_time": "2025-04-10T21:27:02.928920Z",
     "start_time": "2025-04-10T21:26:51.427349Z"
    }
   },
   "outputs": [
    {
     "name": "stdout",
     "output_type": "stream",
     "text": [
      "033.000\r"
     ]
    }
   ],
   "source": [
    "N = 100\n",
    "for j in range(8):\n",
    "    n = j+3\n",
    "    k = 0\n",
    "\n",
    "    solution_state = get_target(n)\n",
    "\n",
    "    with open(f'../generators/p{j+j_shift:03d}.json', 'r') as f:\n",
    "        all_moves, move_names = json.load(f).values()\n",
    "        all_moves = torch.tensor(all_moves, dtype=torch.int64)\n",
    "\n",
    "    num_elements = len(np.unique(solution_state))\n",
    "    b = max(3, ceil(log2(log2(num_elements))))\n",
    "    dtype = {3:torch.int8, 4:torch.int16, 5:torch.int32, 6:torch.int64}[b]\n",
    "\n",
    "    if num_elements >= 2**(2**b-1):\n",
    "        shift = 2**(2**b-1)\n",
    "    else:\n",
    "        shift = 0\n",
    "\n",
    "    solution_state = torch.tensor(np.array(solution_state) - shift, dtype=dtype)\n",
    "\n",
    "    inverse_moves = torch.tensor(generate_inverse_moves(move_names), dtype=torch.int64)\n",
    "\n",
    "    last_moves = torch.full((N,), -1, dtype=torch.int64)\n",
    "    rnd_states = solution_state[None].expand(N, -1)\n",
    "\n",
    "    for _ in range(10_000):\n",
    "        rnd_states, last_moves = random_step(rnd_states, last_moves)\n",
    "\n",
    "    mask = torch.randint(0, 2, (N,), dtype=torch.bool)\n",
    "    rnd_states[mask], _ = random_step(rnd_states[mask], last_moves[mask])\n",
    "\n",
    "    torch.save(rnd_states, f\"../datasets/p{j+j_shift:03d}-t{k:03d}-rnd.pt\")\n",
    "    torch.save(solution_state, f\"../targets/p{j+j_shift:03d}-t{k:03d}.pt\")\n",
    "\n",
    "    print(f\"{j+j_shift:03d}.{k:03d}\", end='\\r')"
   ]
  },
  {
   "cell_type": "code",
   "execution_count": 86,
   "id": "9d0378c8",
   "metadata": {
    "ExecuteTime": {
     "end_time": "2025-04-10T21:37:48.573095Z",
     "start_time": "2025-04-10T21:37:48.566649Z"
    }
   },
   "outputs": [],
   "source": [
    "# Klein-Cook"
   ]
  }
 ],
 "metadata": {
  "kernelspec": {
   "display_name": "Python (ka1242_env)",
   "language": "python",
   "name": "ka1242_env"
  },
  "language_info": {
   "codemirror_mode": {
    "name": "ipython",
    "version": 3
   },
   "file_extension": ".py",
   "mimetype": "text/x-python",
   "name": "python",
   "nbconvert_exporter": "python",
   "pygments_lexer": "ipython3",
   "version": "3.9.16"
  }
 },
 "nbformat": 4,
 "nbformat_minor": 5
}
