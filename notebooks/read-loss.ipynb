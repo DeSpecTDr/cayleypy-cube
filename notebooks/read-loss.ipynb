{
 "cells": [
  {
   "cell_type": "code",
   "execution_count": 2,
   "id": "af99a51c",
   "metadata": {
    "ExecuteTime": {
     "end_time": "2025-04-11T20:37:30.185287Z",
     "start_time": "2025-04-11T20:37:29.834934Z"
    }
   },
   "outputs": [],
   "source": [
    "import torch\n",
    "import numpy as np\n",
    "\n",
    "import matplotlib.pyplot as plt\n",
    "plt.rcParams[\"font.family\"] = \"serif\"\n",
    "\n",
    "from tqdm import tqdm\n",
    "import pandas as pd\n",
    "import json"
   ]
  },
  {
   "cell_type": "code",
   "execution_count": 51,
   "id": "d2f9b9e4",
   "metadata": {
    "ExecuteTime": {
     "end_time": "2025-04-11T21:51:23.453576Z",
     "start_time": "2025-04-11T21:51:23.447581Z"
    }
   },
   "outputs": [],
   "source": [
    "red  = (0.86, 0.08, 0.24)\n",
    "blue = (0.12, 0.56, 1.0)\n",
    "dblue = (0.10, 0.10, 0.44)\n",
    "purple = (0.49, 0.32, 0.62)"
   ]
  },
  {
   "cell_type": "code",
   "execution_count": 27,
   "id": "52baaa21",
   "metadata": {
    "ExecuteTime": {
     "end_time": "2025-04-11T21:48:19.582023Z",
     "start_time": "2025-04-11T21:48:19.574587Z"
    }
   },
   "outputs": [],
   "source": [
    "with open(\"../logs/model_id.txt\", \"r\") as f:\n",
    "    ids = f.readlines()\n",
    "ids = [i[:-1] for i in ids]"
   ]
  },
  {
   "cell_type": "code",
   "execution_count": 42,
   "id": "a25829c1",
   "metadata": {
    "ExecuteTime": {
     "end_time": "2025-04-11T21:49:05.261827Z",
     "start_time": "2025-04-11T21:49:05.200262Z"
    }
   },
   "outputs": [],
   "source": [
    "X = []\n",
    "Y = []\n",
    "\n",
    "\n",
    "for j in range(14):\n",
    "    i = ids[-2-j]\n",
    "\n",
    "    df = pd.read_csv(f\"../logs/train_p038-t000_{i}.csv\")\n",
    "\n",
    "    with open(f\"../logs/model_p038-t000_{i}.json\") as f:\n",
    "        info = json.load(f)\n",
    "\n",
    "    K_max = info['K_max']\n",
    "    X.append(K_max)\n",
    "    Y.append(df.train_loss.to_numpy())\n",
    "\n",
    "X = np.array(X)\n",
    "Y = np.array(Y)"
   ]
  },
  {
   "cell_type": "code",
   "execution_count": 66,
   "id": "c9211b77",
   "metadata": {
    "ExecuteTime": {
     "end_time": "2025-04-11T21:57:25.735086Z",
     "start_time": "2025-04-11T21:57:25.717512Z"
    }
   },
   "outputs": [
    {
     "data": {
      "text/plain": [
       "array([ 1.79783751, -2.87466912])"
      ]
     },
     "execution_count": 66,
     "metadata": {},
     "output_type": "execute_result"
    }
   ],
   "source": [
    "np.polyfit(np.log(X), np.log(Y[:, -1]), 1)"
   ]
  },
  {
   "cell_type": "code",
   "execution_count": 67,
   "id": "13bbbf78",
   "metadata": {
    "ExecuteTime": {
     "end_time": "2025-04-11T21:58:56.249013Z",
     "start_time": "2025-04-11T21:58:56.058425Z"
    }
   },
   "outputs": [
    {
     "data": {
      "image/png": "[encoded data removed]",
      "text/plain": [
       "<Figure size 450x450 with 1 Axes>"
      ]
     },
     "metadata": {},
     "output_type": "display_data"
    }
   ],
   "source": [
    "fig, ax = plt.subplots(1, 1, figsize=(3,3), dpi=150)\n",
    "ax.plot(X, Y[:, -1], color=blue)\n",
    "ax.scatter(X, Y[:, -1], color=blue, s=5)\n",
    "ax.set_xlabel('K_max')\n",
    "ax.set_ylabel('loss (16M)')\n",
    "# ax.set_xscale('log')\n",
    "# ax.set_yscale('log')\n",
    "# ax.set_xlim(10, 1_000)\n",
    "# ax.set_ylim(10, 10_000)\n",
    "plt.show()"
   ]
  },
  {
   "cell_type": "code",
   "execution_count": null,
   "id": "0047bf03",
   "metadata": {},
   "outputs": [],
   "source": []
  },
  {
   "cell_type": "code",
   "execution_count": null,
   "id": "1b55247a",
   "metadata": {},
   "outputs": [],
   "source": []
  }
 ],
 "metadata": {
  "kernelspec": {
   "display_name": "Python (ka1242_env)",
   "language": "python",
   "name": "ka1242_env"
  },
  "language_info": {
   "codemirror_mode": {
    "name": "ipython",
    "version": 3
   },
   "file_extension": ".py",
   "mimetype": "text/x-python",
   "name": "python",
   "nbconvert_exporter": "python",
   "pygments_lexer": "ipython3",
   "version": "3.9.16"
  }
 },
 "nbformat": 4,
 "nbformat_minor": 5
}
