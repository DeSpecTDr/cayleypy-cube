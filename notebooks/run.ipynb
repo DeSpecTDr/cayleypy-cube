{
 "cells": [
  {
   "cell_type": "code",
   "execution_count": 1,
   "id": "48374d46",
   "metadata": {
    "ExecuteTime": {
     "end_time": "2025-04-11T23:48:25.766787Z",
     "start_time": "2025-04-11T23:48:23.172349Z"
    }
   },
   "outputs": [],
   "source": [
    "import os\n",
    "os.chdir(\"..\")\n",
    "\n",
    "import torch\n",
    "import numpy as np\n",
    "import pandas as pd\n",
    "import json\n",
    "import time\n",
    "import subprocess\n",
    "\n",
    "import matplotlib.pyplot as plt\n",
    "plt.rcParams[\"font.family\"] = \"serif\"\n",
    "\n",
    "from tqdm import tqdm"
   ]
  },
  {
   "cell_type": "markdown",
   "id": "b1d062eb",
   "metadata": {},
   "source": [
    "## Train 1"
   ]
  },
  {
   "cell_type": "code",
   "execution_count": 14,
   "id": "4c3e81f0",
   "metadata": {
    "ExecuteTime": {
     "end_time": "2025-04-12T01:32:02.515404Z",
     "start_time": "2025-04-12T00:13:51.904872Z"
    }
   },
   "outputs": [
    {
     "name": "stdout",
     "output_type": "stream",
     "text": [
      "Start training with cuda:0.\n",
      "Group info:\n",
      "  # generators   4\n",
      "  # classes      30\n",
      "  state size     30\n",
      "Model info:\n",
      "  mode          MLP2RB\n",
      "  name          p038-t000\n",
      "  id            1744416835\n",
      "  # parameters  1_320_449\n",
      "[2025-04-12 02:14:13] Saved weights at epoch     1. Train Loss: 46182.72\n",
      "[2025-04-12 02:14:32] Saved weights at epoch     2. Train Loss: 28695.61\n",
      "[2025-04-12 02:15:09] Saved weights at epoch     4. Train Loss: 5637.82\n",
      "[2025-04-12 02:16:21] Saved weights at epoch     8. Train Loss: 2669.48\n",
      "[2025-04-12 02:18:50] Saved weights at epoch    16. Train Loss: 2625.39\n",
      "[2025-04-12 02:23:44] Saved weights at epoch    32. Train Loss: 2593.87\n",
      "[2025-04-12 02:33:24] Saved weights at epoch    64. Train Loss: 2575.11\n",
      "[2025-04-12 02:53:07] Saved weights at epoch   128. Train Loss: 2553.79\n",
      "[2025-04-12 03:32:01] Saved weights at epoch   256. Train Loss: 2543.77\n",
      "[2025-04-12 03:32:01] Finished. Saved final weights at epoch 256. Train Loss: 2543.77.\n"
     ]
    },
    {
     "data": {
      "text/plain": [
       "CompletedProcess(args=['/home/ka1242/.conda/envs/ka1242_env/bin/python', 'train.py', '--group_id', '38', '--target_id', '0', '--epochs', '256', '--hd1', '1024', '--hd2', '256', '--nrd', '1', '--K_max', '400'], returncode=0)"
      ]
     },
     "execution_count": 14,
     "metadata": {},
     "output_type": "execute_result"
    }
   ],
   "source": [
    "subprocess.run([\n",
    "        \"/home/ka1242/.conda/envs/ka1242_env/bin/python\", \"train.py\", \n",
    "         \"--group_id\", \"38\", \n",
    "         \"--target_id\", \"0\", \n",
    "         \"--epochs\", \"256\", \n",
    "         \"--hd1\", \"1024\",\n",
    "         \"--hd2\", \"256\", \n",
    "         \"--nrd\", \"1\",\n",
    "         \"--K_max\", \"400\"\n",
    "    ])"
   ]
  },
  {
   "cell_type": "code",
   "execution_count": 15,
   "id": "3f1eec85",
   "metadata": {
    "ExecuteTime": {
     "end_time": "2025-04-12T01:32:02.533151Z",
     "start_time": "2025-04-12T01:32:02.520621Z"
    }
   },
   "outputs": [
    {
     "data": {
      "text/plain": [
       "'1744416835'"
      ]
     },
     "execution_count": 15,
     "metadata": {},
     "output_type": "execute_result"
    }
   ],
   "source": [
    "# model_id = sorted(os.listdir(\"weights/\"))[-1].split(\"_\")[1]\n",
    "model_id = '1744416835'"
   ]
  },
  {
   "cell_type": "code",
   "execution_count": 19,
   "id": "21a42810",
   "metadata": {
    "ExecuteTime": {
     "end_time": "2025-04-12T01:42:22.432835Z",
     "start_time": "2025-04-12T01:41:18.222800Z"
    },
    "scrolled": true
   },
   "outputs": [
    {
     "name": "stdout",
     "output_type": "stream",
     "text": [
      "[2025-04-12 03:41:20] Start testing with cuda:0.\n",
      "Group info:\n",
      "  # generators   4\n",
      "  # classes      30\n",
      "  state size     30\n",
      "Test dataset size: 10\n",
      "[2025-04-12 03:41:37] Solution 0 not found\n",
      "[2025-04-12 03:41:50] Solution 1: Length = 352\n",
      "[2025-04-12 03:42:08] Solution 2 not found\n"
     ]
    },
    {
     "name": "stderr",
     "output_type": "stream",
     "text": [
      "Traceback (most recent call last):\n",
      "  File \"/home/ka1242/cayleypy-general/test.py\", line 161, in <module>\n",
      "    main()\n",
      "  File \"/home/ka1242/cayleypy-general/test.py\", line 102, in main\n",
      "    result = searcher.get_solution(\n",
      "  File \"/home/ka1242/cayleypy-general/pilgrim/searcher.py\", line 104, in get_solution\n",
      "    states, y_pred, moves, idx = self.do_greedy_step(states, states_bad_hashed, B)\n",
      "  File \"/home/ka1242/cayleypy-general/pilgrim/searcher.py\", line 72, in do_greedy_step\n",
      "    batch_states = self.apply_move(states[idx0[idx1[i:i+self.batch_size]]], moves[idx1[i:i+self.batch_size]])\n",
      "  File \"/home/ka1242/cayleypy-general/pilgrim/searcher.py\", line 53, in apply_move\n",
      "    moved_states = torch.empty(states.size(0), self.state_size, device=self.device, dtype=states.dtype)\n",
      "KeyboardInterrupt\n"
     ]
    },
    {
     "ename": "KeyboardInterrupt",
     "evalue": "",
     "output_type": "error",
     "traceback": [
      "\u001b[0;31m---------------------------------------------------------------------------\u001b[0m",
      "\u001b[0;31mKeyboardInterrupt\u001b[0m                         Traceback (most recent call last)",
      "Cell \u001b[0;32mIn[19], line 1\u001b[0m\n\u001b[0;32m----> 1\u001b[0m \u001b[43msubprocess\u001b[49m\u001b[38;5;241;43m.\u001b[39;49m\u001b[43mrun\u001b[49m\u001b[43m(\u001b[49m\u001b[43m[\u001b[49m\n\u001b[1;32m      2\u001b[0m \u001b[43m    \u001b[49m\u001b[38;5;124;43m\"\u001b[39;49m\u001b[38;5;124;43m/home/ka1242/.conda/envs/ka1242_env/bin/python\u001b[39;49m\u001b[38;5;124;43m\"\u001b[39;49m\u001b[43m,\u001b[49m\u001b[43m \u001b[49m\u001b[38;5;124;43m\"\u001b[39;49m\u001b[38;5;124;43mtest.py\u001b[39;49m\u001b[38;5;124;43m\"\u001b[39;49m\u001b[43m,\u001b[49m\u001b[43m \u001b[49m\n\u001b[1;32m      3\u001b[0m \u001b[43m    \u001b[49m\u001b[38;5;124;43m\"\u001b[39;49m\u001b[38;5;124;43m--group_id\u001b[39;49m\u001b[38;5;124;43m\"\u001b[39;49m\u001b[43m,\u001b[49m\u001b[43m \u001b[49m\u001b[38;5;124;43m\"\u001b[39;49m\u001b[38;5;124;43m38\u001b[39;49m\u001b[38;5;124;43m\"\u001b[39;49m\u001b[43m,\u001b[49m\u001b[43m \u001b[49m\n\u001b[1;32m      4\u001b[0m \u001b[43m    \u001b[49m\u001b[38;5;124;43m\"\u001b[39;49m\u001b[38;5;124;43m--target_id\u001b[39;49m\u001b[38;5;124;43m\"\u001b[39;49m\u001b[43m,\u001b[49m\u001b[43m \u001b[49m\u001b[38;5;124;43m\"\u001b[39;49m\u001b[38;5;124;43m0\u001b[39;49m\u001b[38;5;124;43m\"\u001b[39;49m\u001b[43m,\u001b[49m\u001b[43m \u001b[49m\n\u001b[1;32m      5\u001b[0m \u001b[43m    \u001b[49m\u001b[38;5;124;43m\"\u001b[39;49m\u001b[38;5;124;43m--tests_num\u001b[39;49m\u001b[38;5;124;43m\"\u001b[39;49m\u001b[43m,\u001b[49m\u001b[43m \u001b[49m\u001b[38;5;124;43m\"\u001b[39;49m\u001b[38;5;124;43m10\u001b[39;49m\u001b[38;5;124;43m\"\u001b[39;49m\u001b[43m,\u001b[49m\u001b[43m \u001b[49m\n\u001b[1;32m      6\u001b[0m \u001b[43m    \u001b[49m\u001b[38;5;124;43m\"\u001b[39;49m\u001b[38;5;124;43m--dataset\u001b[39;49m\u001b[38;5;124;43m\"\u001b[39;49m\u001b[43m,\u001b[49m\u001b[43m \u001b[49m\u001b[38;5;124;43m\"\u001b[39;49m\u001b[38;5;124;43mrnd\u001b[39;49m\u001b[38;5;124;43m\"\u001b[39;49m\u001b[43m,\u001b[49m\u001b[43m \u001b[49m\n\u001b[1;32m      7\u001b[0m \u001b[43m    \u001b[49m\u001b[38;5;124;43m\"\u001b[39;49m\u001b[38;5;124;43m--epoch\u001b[39;49m\u001b[38;5;124;43m\"\u001b[39;49m\u001b[43m,\u001b[49m\u001b[43m \u001b[49m\u001b[38;5;124;43m\"\u001b[39;49m\u001b[38;5;124;43m8\u001b[39;49m\u001b[38;5;124;43m\"\u001b[39;49m\u001b[43m,\u001b[49m\u001b[43m \u001b[49m\n\u001b[1;32m      8\u001b[0m \u001b[43m    \u001b[49m\u001b[38;5;124;43m\"\u001b[39;49m\u001b[38;5;124;43m--model_id\u001b[39;49m\u001b[38;5;124;43m\"\u001b[39;49m\u001b[43m,\u001b[49m\u001b[43m \u001b[49m\u001b[38;5;28;43mstr\u001b[39;49m\u001b[43m(\u001b[49m\u001b[43mmodel_id\u001b[49m\u001b[43m)\u001b[49m\u001b[43m,\u001b[49m\u001b[43m \u001b[49m\n\u001b[1;32m      9\u001b[0m \u001b[43m    \u001b[49m\u001b[38;5;124;43m\"\u001b[39;49m\u001b[38;5;124;43m--num_steps\u001b[39;49m\u001b[38;5;124;43m\"\u001b[39;49m\u001b[43m,\u001b[49m\u001b[43m \u001b[49m\u001b[38;5;124;43m\"\u001b[39;49m\u001b[38;5;124;43m500\u001b[39;49m\u001b[38;5;124;43m\"\u001b[39;49m\u001b[43m,\u001b[49m\u001b[43m \u001b[49m\n\u001b[1;32m     10\u001b[0m \u001b[43m    \u001b[49m\u001b[38;5;124;43m\"\u001b[39;49m\u001b[38;5;124;43m--verbose\u001b[39;49m\u001b[38;5;124;43m\"\u001b[39;49m\u001b[43m,\u001b[49m\u001b[43m \u001b[49m\u001b[38;5;124;43m\"\u001b[39;49m\u001b[38;5;124;43m0\u001b[39;49m\u001b[38;5;124;43m\"\u001b[39;49m\u001b[43m,\u001b[49m\n\u001b[1;32m     11\u001b[0m \u001b[43m    \u001b[49m\u001b[38;5;124;43m\"\u001b[39;49m\u001b[38;5;124;43m--B\u001b[39;49m\u001b[38;5;124;43m\"\u001b[39;49m\u001b[43m,\u001b[49m\u001b[43m \u001b[49m\u001b[38;5;28;43mstr\u001b[39;49m\u001b[43m(\u001b[49m\u001b[38;5;241;43m2\u001b[39;49m\u001b[38;5;241;43m*\u001b[39;49m\u001b[38;5;241;43m*\u001b[39;49m\u001b[38;5;241;43m18\u001b[39;49m\u001b[43m)\u001b[49m\n\u001b[1;32m     12\u001b[0m \u001b[43m]\u001b[49m\u001b[43m)\u001b[49m\n",
      "File \u001b[0;32m~/.conda/envs/ka1242_env/lib/python3.9/subprocess.py:507\u001b[0m, in \u001b[0;36mrun\u001b[0;34m(input, capture_output, timeout, check, *popenargs, **kwargs)\u001b[0m\n\u001b[1;32m    505\u001b[0m \u001b[38;5;28;01mwith\u001b[39;00m Popen(\u001b[38;5;241m*\u001b[39mpopenargs, \u001b[38;5;241m*\u001b[39m\u001b[38;5;241m*\u001b[39mkwargs) \u001b[38;5;28;01mas\u001b[39;00m process:\n\u001b[1;32m    506\u001b[0m     \u001b[38;5;28;01mtry\u001b[39;00m:\n\u001b[0;32m--> 507\u001b[0m         stdout, stderr \u001b[38;5;241m=\u001b[39m \u001b[43mprocess\u001b[49m\u001b[38;5;241;43m.\u001b[39;49m\u001b[43mcommunicate\u001b[49m\u001b[43m(\u001b[49m\u001b[38;5;28;43minput\u001b[39;49m\u001b[43m,\u001b[49m\u001b[43m \u001b[49m\u001b[43mtimeout\u001b[49m\u001b[38;5;241;43m=\u001b[39;49m\u001b[43mtimeout\u001b[49m\u001b[43m)\u001b[49m\n\u001b[1;32m    508\u001b[0m     \u001b[38;5;28;01mexcept\u001b[39;00m TimeoutExpired \u001b[38;5;28;01mas\u001b[39;00m exc:\n\u001b[1;32m    509\u001b[0m         process\u001b[38;5;241m.\u001b[39mkill()\n",
      "File \u001b[0;32m~/.conda/envs/ka1242_env/lib/python3.9/subprocess.py:1126\u001b[0m, in \u001b[0;36mPopen.communicate\u001b[0;34m(self, input, timeout)\u001b[0m\n\u001b[1;32m   1124\u001b[0m         stderr \u001b[38;5;241m=\u001b[39m \u001b[38;5;28mself\u001b[39m\u001b[38;5;241m.\u001b[39mstderr\u001b[38;5;241m.\u001b[39mread()\n\u001b[1;32m   1125\u001b[0m         \u001b[38;5;28mself\u001b[39m\u001b[38;5;241m.\u001b[39mstderr\u001b[38;5;241m.\u001b[39mclose()\n\u001b[0;32m-> 1126\u001b[0m     \u001b[38;5;28;43mself\u001b[39;49m\u001b[38;5;241;43m.\u001b[39;49m\u001b[43mwait\u001b[49m\u001b[43m(\u001b[49m\u001b[43m)\u001b[49m\n\u001b[1;32m   1127\u001b[0m \u001b[38;5;28;01melse\u001b[39;00m:\n\u001b[1;32m   1128\u001b[0m     \u001b[38;5;28;01mif\u001b[39;00m timeout \u001b[38;5;129;01mis\u001b[39;00m \u001b[38;5;129;01mnot\u001b[39;00m \u001b[38;5;28;01mNone\u001b[39;00m:\n",
      "File \u001b[0;32m~/.conda/envs/ka1242_env/lib/python3.9/subprocess.py:1189\u001b[0m, in \u001b[0;36mPopen.wait\u001b[0;34m(self, timeout)\u001b[0m\n\u001b[1;32m   1187\u001b[0m     endtime \u001b[38;5;241m=\u001b[39m _time() \u001b[38;5;241m+\u001b[39m timeout\n\u001b[1;32m   1188\u001b[0m \u001b[38;5;28;01mtry\u001b[39;00m:\n\u001b[0;32m-> 1189\u001b[0m     \u001b[38;5;28;01mreturn\u001b[39;00m \u001b[38;5;28;43mself\u001b[39;49m\u001b[38;5;241;43m.\u001b[39;49m\u001b[43m_wait\u001b[49m\u001b[43m(\u001b[49m\u001b[43mtimeout\u001b[49m\u001b[38;5;241;43m=\u001b[39;49m\u001b[43mtimeout\u001b[49m\u001b[43m)\u001b[49m\n\u001b[1;32m   1190\u001b[0m \u001b[38;5;28;01mexcept\u001b[39;00m \u001b[38;5;167;01mKeyboardInterrupt\u001b[39;00m:\n\u001b[1;32m   1191\u001b[0m     \u001b[38;5;66;03m# https://bugs.python.org/issue25942\u001b[39;00m\n\u001b[1;32m   1192\u001b[0m     \u001b[38;5;66;03m# The first keyboard interrupt waits briefly for the child to\u001b[39;00m\n\u001b[1;32m   1193\u001b[0m     \u001b[38;5;66;03m# exit under the common assumption that it also received the ^C\u001b[39;00m\n\u001b[1;32m   1194\u001b[0m     \u001b[38;5;66;03m# generated SIGINT and will exit rapidly.\u001b[39;00m\n\u001b[1;32m   1195\u001b[0m     \u001b[38;5;28;01mif\u001b[39;00m timeout \u001b[38;5;129;01mis\u001b[39;00m \u001b[38;5;129;01mnot\u001b[39;00m \u001b[38;5;28;01mNone\u001b[39;00m:\n",
      "File \u001b[0;32m~/.conda/envs/ka1242_env/lib/python3.9/subprocess.py:1917\u001b[0m, in \u001b[0;36mPopen._wait\u001b[0;34m(self, timeout)\u001b[0m\n\u001b[1;32m   1915\u001b[0m \u001b[38;5;28;01mif\u001b[39;00m \u001b[38;5;28mself\u001b[39m\u001b[38;5;241m.\u001b[39mreturncode \u001b[38;5;129;01mis\u001b[39;00m \u001b[38;5;129;01mnot\u001b[39;00m \u001b[38;5;28;01mNone\u001b[39;00m:\n\u001b[1;32m   1916\u001b[0m     \u001b[38;5;28;01mbreak\u001b[39;00m  \u001b[38;5;66;03m# Another thread waited.\u001b[39;00m\n\u001b[0;32m-> 1917\u001b[0m (pid, sts) \u001b[38;5;241m=\u001b[39m \u001b[38;5;28;43mself\u001b[39;49m\u001b[38;5;241;43m.\u001b[39;49m\u001b[43m_try_wait\u001b[49m\u001b[43m(\u001b[49m\u001b[38;5;241;43m0\u001b[39;49m\u001b[43m)\u001b[49m\n\u001b[1;32m   1918\u001b[0m \u001b[38;5;66;03m# Check the pid and loop as waitpid has been known to\u001b[39;00m\n\u001b[1;32m   1919\u001b[0m \u001b[38;5;66;03m# return 0 even without WNOHANG in odd situations.\u001b[39;00m\n\u001b[1;32m   1920\u001b[0m \u001b[38;5;66;03m# http://bugs.python.org/issue14396.\u001b[39;00m\n\u001b[1;32m   1921\u001b[0m \u001b[38;5;28;01mif\u001b[39;00m pid \u001b[38;5;241m==\u001b[39m \u001b[38;5;28mself\u001b[39m\u001b[38;5;241m.\u001b[39mpid:\n",
      "File \u001b[0;32m~/.conda/envs/ka1242_env/lib/python3.9/subprocess.py:1875\u001b[0m, in \u001b[0;36mPopen._try_wait\u001b[0;34m(self, wait_flags)\u001b[0m\n\u001b[1;32m   1873\u001b[0m \u001b[38;5;250m\u001b[39m\u001b[38;5;124;03m\"\"\"All callers to this function MUST hold self._waitpid_lock.\"\"\"\u001b[39;00m\n\u001b[1;32m   1874\u001b[0m \u001b[38;5;28;01mtry\u001b[39;00m:\n\u001b[0;32m-> 1875\u001b[0m     (pid, sts) \u001b[38;5;241m=\u001b[39m \u001b[43mos\u001b[49m\u001b[38;5;241;43m.\u001b[39;49m\u001b[43mwaitpid\u001b[49m\u001b[43m(\u001b[49m\u001b[38;5;28;43mself\u001b[39;49m\u001b[38;5;241;43m.\u001b[39;49m\u001b[43mpid\u001b[49m\u001b[43m,\u001b[49m\u001b[43m \u001b[49m\u001b[43mwait_flags\u001b[49m\u001b[43m)\u001b[49m\n\u001b[1;32m   1876\u001b[0m \u001b[38;5;28;01mexcept\u001b[39;00m \u001b[38;5;167;01mChildProcessError\u001b[39;00m:\n\u001b[1;32m   1877\u001b[0m     \u001b[38;5;66;03m# This happens if SIGCLD is set to be ignored or waiting\u001b[39;00m\n\u001b[1;32m   1878\u001b[0m     \u001b[38;5;66;03m# for child processes has otherwise been disabled for our\u001b[39;00m\n\u001b[1;32m   1879\u001b[0m     \u001b[38;5;66;03m# process.  This child is dead, we can't get the status.\u001b[39;00m\n\u001b[1;32m   1880\u001b[0m     pid \u001b[38;5;241m=\u001b[39m \u001b[38;5;28mself\u001b[39m\u001b[38;5;241m.\u001b[39mpid\n",
      "\u001b[0;31mKeyboardInterrupt\u001b[0m: "
     ]
    }
   ],
   "source": [
    "subprocess.run([\n",
    "    \"/home/ka1242/.conda/envs/ka1242_env/bin/python\", \"test.py\", \n",
    "    \"--group_id\", \"38\", \n",
    "    \"--target_id\", \"0\", \n",
    "    \"--tests_num\", \"10\", \n",
    "    \"--dataset\", \"rnd\", \n",
    "    \"--epoch\", \"8\", \n",
    "    \"--model_id\", str(model_id), \n",
    "    \"--num_steps\", \"500\", \n",
    "    \"--verbose\", \"0\",\n",
    "    \"--B\", str(2**18)\n",
    "])"
   ]
  },
  {
   "cell_type": "code",
   "execution_count": 18,
   "id": "39679651",
   "metadata": {
    "ExecuteTime": {
     "end_time": "2025-04-12T01:41:18.218110Z",
     "start_time": "2025-04-12T01:37:25.792816Z"
    }
   },
   "outputs": [
    {
     "name": "stdout",
     "output_type": "stream",
     "text": [
      "[2025-04-12 03:37:27] Start testing with cuda:0.\n",
      "Group info:\n",
      "  # generators   4\n",
      "  # classes      30\n",
      "  state size     30\n",
      "Test dataset size: 10\n",
      "[2025-04-12 03:38:09] Solution 0 not found\n",
      "[2025-04-12 03:38:23] Solution 1: Length = 354\n",
      "[2025-04-12 03:38:42] Solution 2 not found\n",
      "[2025-04-12 03:39:06] Solution 3: Length = 394\n",
      "[2025-04-12 03:39:35] Solution 4: Length = 500\n",
      "[2025-04-12 03:39:48] Solution 5: Length = 335\n",
      "[2025-04-12 03:40:12] Solution 6: Length = 430\n",
      "[2025-04-12 03:40:27] Solution 7 not found\n",
      "[2025-04-12 03:41:06] Solution 8 not found\n",
      "[2025-04-12 03:41:17] Solution 9: Length = 276\n",
      "Test completed in 229.77s.\n",
      "Average solution length: 381.50.\n",
      "Solved 6/10 scrambles.\n",
      "Results saved to logs/test_p038-t000-rnd_1744416835_16_B262144.json.\n"
     ]
    },
    {
     "data": {
      "text/plain": [
       "CompletedProcess(args=['/home/ka1242/.conda/envs/ka1242_env/bin/python', 'test.py', '--group_id', '38', '--target_id', '0', '--tests_num', '10', '--dataset', 'rnd', '--epoch', '16', '--model_id', '1744416835', '--num_steps', '500', '--verbose', '0', '--B', '262144'], returncode=0)"
      ]
     },
     "execution_count": 18,
     "metadata": {},
     "output_type": "execute_result"
    }
   ],
   "source": [
    "subprocess.run([\n",
    "    \"/home/ka1242/.conda/envs/ka1242_env/bin/python\", \"test.py\", \n",
    "    \"--group_id\", \"38\", \n",
    "    \"--target_id\", \"0\", \n",
    "    \"--tests_num\", \"10\", \n",
    "    \"--dataset\", \"rnd\", \n",
    "    \"--epoch\", \"16\", \n",
    "    \"--model_id\", str(model_id), \n",
    "    \"--num_steps\", \"500\", \n",
    "    \"--verbose\", \"0\",\n",
    "    \"--B\", str(2**18)\n",
    "])"
   ]
  },
  {
   "cell_type": "code",
   "execution_count": 16,
   "id": "1b263251",
   "metadata": {
    "ExecuteTime": {
     "end_time": "2025-04-12T01:34:53.464893Z",
     "start_time": "2025-04-12T01:32:02.537455Z"
    }
   },
   "outputs": [
    {
     "name": "stdout",
     "output_type": "stream",
     "text": [
      "[2025-04-12 03:32:04] Start testing with cuda:0.\n",
      "Group info:\n",
      "  # generators   4\n",
      "  # classes      30\n",
      "  state size     30\n",
      "Test dataset size: 10\n",
      "[2025-04-12 03:32:29] Solution 0 not found\n",
      "[2025-04-12 03:32:42] Solution 1: Length = 340\n",
      "[2025-04-12 03:33:03] Solution 2 not found\n",
      "[2025-04-12 03:33:17] Solution 3: Length = 354\n",
      "[2025-04-12 03:33:34] Solution 4 not found\n",
      "[2025-04-12 03:33:48] Solution 5: Length = 333\n",
      "[2025-04-12 03:34:05] Solution 6 not found\n",
      "[2025-04-12 03:34:28] Solution 7 not found\n",
      "[2025-04-12 03:34:42] Solution 8: Length = 365\n",
      "[2025-04-12 03:34:53] Solution 9: Length = 260\n",
      "Test completed in 168.30s.\n",
      "Average solution length: 330.40.\n",
      "Solved 5/10 scrambles.\n",
      "Results saved to logs/test_p038-t000-rnd_1744416835_32_B262144.json.\n"
     ]
    },
    {
     "data": {
      "text/plain": [
       "CompletedProcess(args=['/home/ka1242/.conda/envs/ka1242_env/bin/python', 'test.py', '--group_id', '38', '--target_id', '0', '--tests_num', '10', '--dataset', 'rnd', '--epoch', '32', '--model_id', '1744416835', '--num_steps', '500', '--verbose', '0', '--B', '262144'], returncode=0)"
      ]
     },
     "execution_count": 16,
     "metadata": {},
     "output_type": "execute_result"
    }
   ],
   "source": [
    "subprocess.run([\n",
    "    \"/home/ka1242/.conda/envs/ka1242_env/bin/python\", \"test.py\", \n",
    "    \"--group_id\", \"38\", \n",
    "    \"--target_id\", \"0\", \n",
    "    \"--tests_num\", \"10\", \n",
    "    \"--dataset\", \"rnd\", \n",
    "    \"--epoch\", \"32\", \n",
    "    \"--model_id\", str(model_id), \n",
    "    \"--num_steps\", \"500\", \n",
    "    \"--verbose\", \"0\",\n",
    "    \"--B\", str(2**18)\n",
    "])"
   ]
  },
  {
   "cell_type": "code",
   "execution_count": 17,
   "id": "528dc0e1",
   "metadata": {
    "ExecuteTime": {
     "end_time": "2025-04-12T01:37:25.787053Z",
     "start_time": "2025-04-12T01:34:53.470998Z"
    }
   },
   "outputs": [
    {
     "name": "stdout",
     "output_type": "stream",
     "text": [
      "[2025-04-12 03:34:55] Start testing with cuda:0.\n",
      "Group info:\n",
      "  # generators   4\n",
      "  # classes      30\n",
      "  state size     30\n",
      "Test dataset size: 10\n",
      "[2025-04-12 03:35:16] Solution 0: Length = 441\n",
      "[2025-04-12 03:35:29] Solution 1: Length = 336\n",
      "[2025-04-12 03:35:43] Solution 2 not found\n",
      "[2025-04-12 03:36:03] Solution 3 not found\n",
      "[2025-04-12 03:36:17] Solution 4 not found\n",
      "[2025-04-12 03:36:30] Solution 5: Length = 331\n",
      "[2025-04-12 03:36:44] Solution 6 not found\n",
      "[2025-04-12 03:36:59] Solution 7: Length = 372\n",
      "[2025-04-12 03:37:13] Solution 8: Length = 367\n",
      "[2025-04-12 03:37:25] Solution 9: Length = 292\n",
      "Test completed in 149.30s.\n",
      "Average solution length: 356.50.\n",
      "Solved 6/10 scrambles.\n",
      "Results saved to logs/test_p038-t000-rnd_1744416835_64_B262144.json.\n"
     ]
    },
    {
     "data": {
      "text/plain": [
       "CompletedProcess(args=['/home/ka1242/.conda/envs/ka1242_env/bin/python', 'test.py', '--group_id', '38', '--target_id', '0', '--tests_num', '10', '--dataset', 'rnd', '--epoch', '64', '--model_id', '1744416835', '--num_steps', '500', '--verbose', '0', '--B', '262144'], returncode=0)"
      ]
     },
     "execution_count": 17,
     "metadata": {},
     "output_type": "execute_result"
    }
   ],
   "source": [
    "subprocess.run([\n",
    "    \"/home/ka1242/.conda/envs/ka1242_env/bin/python\", \"test.py\", \n",
    "    \"--group_id\", \"38\", \n",
    "    \"--target_id\", \"0\", \n",
    "    \"--tests_num\", \"10\", \n",
    "    \"--dataset\", \"rnd\", \n",
    "    \"--epoch\", \"64\", \n",
    "    \"--model_id\", str(model_id), \n",
    "    \"--num_steps\", \"500\", \n",
    "    \"--verbose\", \"0\",\n",
    "    \"--B\", str(2**18)\n",
    "])"
   ]
  },
  {
   "cell_type": "code",
   "execution_count": null,
   "id": "49a28233",
   "metadata": {
    "ExecuteTime": {
     "end_time": "2025-04-12T01:42:22.438867Z",
     "start_time": "2025-04-12T01:42:22.438822Z"
    }
   },
   "outputs": [],
   "source": [
    "subprocess.run([\n",
    "    \"/home/ka1242/.conda/envs/ka1242_env/bin/python\", \"test.py\", \n",
    "    \"--group_id\", \"38\", \n",
    "    \"--target_id\", \"0\", \n",
    "    \"--tests_num\", \"10\", \n",
    "    \"--dataset\", \"rnd\", \n",
    "    \"--epoch\", \"128\", \n",
    "    \"--model_id\", str(model_id), \n",
    "    \"--num_steps\", \"500\", \n",
    "    \"--verbose\", \"0\",\n",
    "    \"--B\", str(2**18)\n",
    "])"
   ]
  },
  {
   "cell_type": "code",
   "execution_count": null,
   "id": "9a63d582",
   "metadata": {
    "ExecuteTime": {
     "end_time": "2025-04-12T01:42:22.441790Z",
     "start_time": "2025-04-12T01:42:22.441758Z"
    }
   },
   "outputs": [],
   "source": [
    "subprocess.run([\n",
    "    \"/home/ka1242/.conda/envs/ka1242_env/bin/python\", \"test.py\", \n",
    "    \"--group_id\", \"38\", \n",
    "    \"--target_id\", \"0\", \n",
    "    \"--tests_num\", \"10\", \n",
    "    \"--dataset\", \"rnd\", \n",
    "    \"--epoch\", \"256\", \n",
    "    \"--model_id\", str(model_id), \n",
    "    \"--num_steps\", \"500\", \n",
    "    \"--verbose\", \"0\",\n",
    "    \"--B\", str(2**18)\n",
    "])"
   ]
  },
  {
   "cell_type": "markdown",
   "id": "b881d2c7",
   "metadata": {},
   "source": [
    "## Train 2"
   ]
  },
  {
   "cell_type": "code",
   "execution_count": 20,
   "id": "84c721bb",
   "metadata": {
    "ExecuteTime": {
     "end_time": "2025-04-12T01:47:18.706061Z",
     "start_time": "2025-04-12T01:42:52.358880Z"
    }
   },
   "outputs": [
    {
     "name": "stdout",
     "output_type": "stream",
     "text": [
      "Start training with cuda:0.\n",
      "Group info:\n",
      "  # generators   4\n",
      "  # classes      30\n",
      "  state size     30\n",
      "Model info:\n",
      "  mode          MLP2RB\n",
      "  name          p038-t000\n",
      "  id            1744422175\n",
      "  # parameters  1_320_449\n",
      "[2025-04-12 03:42:56] Saved weights at epoch     1. Train Loss: 46007.20\n",
      "[2025-04-12 03:42:57] Saved weights at epoch     2. Train Loss: 28497.37\n",
      "[2025-04-12 03:42:59] Saved weights at epoch     4. Train Loss: 5644.02\n",
      "[2025-04-12 03:43:03] Saved weights at epoch     8. Train Loss: 2661.95\n",
      "[2025-04-12 03:43:11] Saved weights at epoch    16. Train Loss: 2615.81\n",
      "[2025-04-12 03:43:26] Saved weights at epoch    32. Train Loss: 2600.11\n",
      "[2025-04-12 03:43:59] Saved weights at epoch    64. Train Loss: 2573.00\n",
      "[2025-04-12 03:45:05] Saved weights at epoch   128. Train Loss: 2560.49\n",
      "[2025-04-12 03:47:17] Saved weights at epoch   256. Train Loss: 2543.55\n",
      "[2025-04-12 03:47:17] Finished. Saved final weights at epoch 256. Train Loss: 2543.55.\n"
     ]
    }
   ],
   "source": [
    "subprocess.run([\n",
    "        \"/home/ka1242/.conda/envs/ka1242_env/bin/python\", \"train.py\", \n",
    "         \"--group_id\", \"38\", \n",
    "         \"--target_id\", \"0\", \n",
    "         \"--epochs\", \"256\", \n",
    "         \"--hd1\", \"1024\",\n",
    "         \"--hd2\", \"256\", \n",
    "         \"--nrd\", \"1\",\n",
    "         \"--K_max\", \"400\"\n",
    "    ]);"
   ]
  },
  {
   "cell_type": "code",
   "execution_count": null,
   "id": "6d0a6ae9",
   "metadata": {
    "ExecuteTime": {
     "end_time": "2025-04-12T01:42:22.446466Z",
     "start_time": "2025-04-12T01:42:22.446438Z"
    }
   },
   "outputs": [],
   "source": [
    "model_id = sorted(os.listdir(\"weights/\"))[-1].split(\"_\")[1]\n",
    "model_id"
   ]
  },
  {
   "cell_type": "code",
   "execution_count": null,
   "id": "2f9d46be",
   "metadata": {
    "ExecuteTime": {
     "end_time": "2025-04-12T01:42:22.448644Z",
     "start_time": "2025-04-12T01:42:22.448617Z"
    }
   },
   "outputs": [],
   "source": [
    "subprocess.run([\n",
    "    \"/home/ka1242/.conda/envs/ka1242_env/bin/python\", \"test.py\", \n",
    "    \"--group_id\", \"38\", \n",
    "    \"--target_id\", \"0\", \n",
    "    \"--tests_num\", \"10\", \n",
    "    \"--dataset\", \"rnd\", \n",
    "    \"--epoch\", \"8\", \n",
    "    \"--model_id\", str(model_id), \n",
    "    \"--num_steps\", \"500\", \n",
    "    \"--verbose\", \"0\",\n",
    "    \"--B\", str(2**18)\n",
    "])"
   ]
  },
  {
   "cell_type": "code",
   "execution_count": null,
   "id": "c90556f6",
   "metadata": {
    "ExecuteTime": {
     "end_time": "2025-04-12T01:42:22.451914Z",
     "start_time": "2025-04-12T01:42:22.451885Z"
    }
   },
   "outputs": [],
   "source": [
    "subprocess.run([\n",
    "    \"/home/ka1242/.conda/envs/ka1242_env/bin/python\", \"test.py\", \n",
    "    \"--group_id\", \"38\", \n",
    "    \"--target_id\", \"0\", \n",
    "    \"--tests_num\", \"10\", \n",
    "    \"--dataset\", \"rnd\", \n",
    "    \"--epoch\", \"16\", \n",
    "    \"--model_id\", str(model_id), \n",
    "    \"--num_steps\", \"500\", \n",
    "    \"--verbose\", \"0\",\n",
    "    \"--B\", str(2**18)\n",
    "])"
   ]
  },
  {
   "cell_type": "code",
   "execution_count": null,
   "id": "3a1504aa",
   "metadata": {
    "ExecuteTime": {
     "end_time": "2025-04-12T01:42:22.454265Z",
     "start_time": "2025-04-12T01:42:22.454238Z"
    }
   },
   "outputs": [],
   "source": [
    "subprocess.run([\n",
    "    \"/home/ka1242/.conda/envs/ka1242_env/bin/python\", \"test.py\", \n",
    "    \"--group_id\", \"38\", \n",
    "    \"--target_id\", \"0\", \n",
    "    \"--tests_num\", \"10\", \n",
    "    \"--dataset\", \"rnd\", \n",
    "    \"--epoch\", \"32\", \n",
    "    \"--model_id\", str(model_id), \n",
    "    \"--num_steps\", \"500\", \n",
    "    \"--verbose\", \"0\",\n",
    "    \"--B\", str(2**18)\n",
    "])"
   ]
  },
  {
   "cell_type": "code",
   "execution_count": null,
   "id": "32976fca",
   "metadata": {
    "ExecuteTime": {
     "end_time": "2025-04-12T01:42:22.456593Z",
     "start_time": "2025-04-12T01:42:22.456566Z"
    }
   },
   "outputs": [],
   "source": [
    "subprocess.run([\n",
    "    \"/home/ka1242/.conda/envs/ka1242_env/bin/python\", \"test.py\", \n",
    "    \"--group_id\", \"38\", \n",
    "    \"--target_id\", \"0\", \n",
    "    \"--tests_num\", \"10\", \n",
    "    \"--dataset\", \"rnd\", \n",
    "    \"--epoch\", \"64\", \n",
    "    \"--model_id\", str(model_id), \n",
    "    \"--num_steps\", \"500\", \n",
    "    \"--verbose\", \"0\",\n",
    "    \"--B\", str(2**18)\n",
    "])"
   ]
  },
  {
   "cell_type": "code",
   "execution_count": null,
   "id": "d9815fa5",
   "metadata": {
    "ExecuteTime": {
     "end_time": "2025-04-12T01:42:22.459129Z",
     "start_time": "2025-04-12T01:42:22.459101Z"
    }
   },
   "outputs": [],
   "source": [
    "subprocess.run([\n",
    "    \"/home/ka1242/.conda/envs/ka1242_env/bin/python\", \"test.py\", \n",
    "    \"--group_id\", \"38\", \n",
    "    \"--target_id\", \"0\", \n",
    "    \"--tests_num\", \"10\", \n",
    "    \"--dataset\", \"rnd\", \n",
    "    \"--epoch\", \"128\", \n",
    "    \"--model_id\", str(model_id), \n",
    "    \"--num_steps\", \"500\", \n",
    "    \"--verbose\", \"0\",\n",
    "    \"--B\", str(2**18)\n",
    "])"
   ]
  },
  {
   "cell_type": "code",
   "execution_count": null,
   "id": "bdd435a3",
   "metadata": {
    "ExecuteTime": {
     "end_time": "2025-04-12T01:42:22.461359Z",
     "start_time": "2025-04-12T01:42:22.461330Z"
    }
   },
   "outputs": [],
   "source": [
    "subprocess.run([\n",
    "    \"/home/ka1242/.conda/envs/ka1242_env/bin/python\", \"test.py\", \n",
    "    \"--group_id\", \"38\", \n",
    "    \"--target_id\", \"0\", \n",
    "    \"--tests_num\", \"10\", \n",
    "    \"--dataset\", \"rnd\", \n",
    "    \"--epoch\", \"256\", \n",
    "    \"--model_id\", str(model_id), \n",
    "    \"--num_steps\", \"500\", \n",
    "    \"--verbose\", \"0\",\n",
    "    \"--B\", str(2**18)\n",
    "])"
   ]
  },
  {
   "cell_type": "code",
   "execution_count": null,
   "id": "01b0974e",
   "metadata": {},
   "outputs": [],
   "source": []
  },
  {
   "cell_type": "code",
   "execution_count": null,
   "id": "3a39a7d8",
   "metadata": {},
   "outputs": [],
   "source": []
  }
 ],
 "metadata": {
  "kernelspec": {
   "display_name": "Python (ka1242_env)",
   "language": "python",
   "name": "ka1242_env"
  },
  "language_info": {
   "codemirror_mode": {
    "name": "ipython",
    "version": 3
   },
   "file_extension": ".py",
   "mimetype": "text/x-python",
   "name": "python",
   "nbconvert_exporter": "python",
   "pygments_lexer": "ipython3",
   "version": "3.9.16"
  }
 },
 "nbformat": 4,
 "nbformat_minor": 5
}
