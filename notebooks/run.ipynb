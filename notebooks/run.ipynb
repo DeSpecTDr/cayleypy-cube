{
 "cells": [
  {
   "cell_type": "code",
   "execution_count": 1,
   "id": "2c2a8846",
   "metadata": {
    "ExecuteTime": {
     "end_time": "2025-04-11T23:48:25.766787Z",
     "start_time": "2025-04-11T23:48:23.172349Z"
    }
   },
   "outputs": [],
   "source": [
    "import os\n",
    "os.chdir(\"..\")\n",
    "\n",
    "import torch\n",
    "import numpy as np\n",
    "import pandas as pd\n",
    "import json\n",
    "import time\n",
    "import subprocess\n",
    "\n",
    "import matplotlib.pyplot as plt\n",
    "plt.rcParams[\"font.family\"] = \"serif\"\n",
    "\n",
    "from tqdm import tqdm"
   ]
  },
  {
   "cell_type": "markdown",
   "id": "6a21185e",
   "metadata": {
    "heading_collapsed": true
   },
   "source": [
    "## Train 1"
   ]
  },
  {
   "cell_type": "code",
   "execution_count": 14,
   "id": "3e7fbf0c",
   "metadata": {
    "ExecuteTime": {
     "end_time": "2025-04-12T01:32:02.515404Z",
     "start_time": "2025-04-12T00:13:51.904872Z"
    },
    "hidden": true
   },
   "outputs": [
    {
     "name": "stdout",
     "output_type": "stream",
     "text": [
      "Start training with cuda:0.\n",
      "Group info:\n",
      "  # generators   4\n",
      "  # classes      30\n",
      "  state size     30\n",
      "Model info:\n",
      "  mode          MLP2RB\n",
      "  name          p038-t000\n",
      "  id            1744416835\n",
      "  # parameters  1_320_449\n",
      "[2025-04-12 02:14:13] Saved weights at epoch     1. Train Loss: 46182.72\n",
      "[2025-04-12 02:14:32] Saved weights at epoch     2. Train Loss: 28695.61\n",
      "[2025-04-12 02:15:09] Saved weights at epoch     4. Train Loss: 5637.82\n",
      "[2025-04-12 02:16:21] Saved weights at epoch     8. Train Loss: 2669.48\n",
      "[2025-04-12 02:18:50] Saved weights at epoch    16. Train Loss: 2625.39\n",
      "[2025-04-12 02:23:44] Saved weights at epoch    32. Train Loss: 2593.87\n",
      "[2025-04-12 02:33:24] Saved weights at epoch    64. Train Loss: 2575.11\n",
      "[2025-04-12 02:53:07] Saved weights at epoch   128. Train Loss: 2553.79\n",
      "[2025-04-12 03:32:01] Saved weights at epoch   256. Train Loss: 2543.77\n",
      "[2025-04-12 03:32:01] Finished. Saved final weights at epoch 256. Train Loss: 2543.77.\n"
     ]
    },
    {
     "data": {
      "text/plain": [
       "CompletedProcess(args=['/home/ka1242/.conda/envs/ka1242_env/bin/python', 'train.py', '--group_id', '38', '--target_id', '0', '--epochs', '256', '--hd1', '1024', '--hd2', '256', '--nrd', '1', '--K_max', '400'], returncode=0)"
      ]
     },
     "execution_count": 14,
     "metadata": {},
     "output_type": "execute_result"
    }
   ],
   "source": [
    "subprocess.run([\n",
    "    \"/home/ka1242/.conda/envs/ka1242_env/bin/python\", \"train.py\", \n",
    "     \"--group_id\", \"38\", \n",
    "     \"--target_id\", \"0\", \n",
    "     \"--epochs\", \"256\", \n",
    "     \"--hd1\", \"1024\",\n",
    "     \"--hd2\", \"256\", \n",
    "     \"--nrd\", \"1\",\n",
    "     \"--batch_size\", \"10_000\",\n",
    "     \"--K_max\", \"400\"\n",
    "]);"
   ]
  },
  {
   "cell_type": "code",
   "execution_count": 15,
   "id": "bd2d4f8f",
   "metadata": {
    "ExecuteTime": {
     "end_time": "2025-04-12T01:32:02.533151Z",
     "start_time": "2025-04-12T01:32:02.520621Z"
    },
    "hidden": true
   },
   "outputs": [
    {
     "data": {
      "text/plain": [
       "'1744416835'"
      ]
     },
     "execution_count": 15,
     "metadata": {},
     "output_type": "execute_result"
    }
   ],
   "source": [
    "# model_id = sorted(os.listdir(\"weights/\"))[-1].split(\"_\")[1]\n",
    "model_id = '1744416835'"
   ]
  },
  {
   "cell_type": "code",
   "execution_count": 19,
   "id": "ec260aee",
   "metadata": {
    "ExecuteTime": {
     "end_time": "2025-04-12T01:42:22.432835Z",
     "start_time": "2025-04-12T01:41:18.222800Z"
    },
    "hidden": true,
    "scrolled": true
   },
   "outputs": [
    {
     "name": "stdout",
     "output_type": "stream",
     "text": [
      "[2025-04-12 03:41:20] Start testing with cuda:0.\n",
      "Group info:\n",
      "  # generators   4\n",
      "  # classes      30\n",
      "  state size     30\n",
      "Test dataset size: 10\n",
      "[2025-04-12 03:41:37] Solution 0 not found\n",
      "[2025-04-12 03:41:50] Solution 1: Length = 352\n",
      "[2025-04-12 03:42:08] Solution 2 not found\n"
     ]
    },
    {
     "name": "stderr",
     "output_type": "stream",
     "text": [
      "Traceback (most recent call last):\n",
      "  File \"/home/ka1242/cayleypy-general/test.py\", line 161, in <module>\n",
      "    main()\n",
      "  File \"/home/ka1242/cayleypy-general/test.py\", line 102, in main\n",
      "    result = searcher.get_solution(\n",
      "  File \"/home/ka1242/cayleypy-general/pilgrim/searcher.py\", line 104, in get_solution\n",
      "    states, y_pred, moves, idx = self.do_greedy_step(states, states_bad_hashed, B)\n",
      "  File \"/home/ka1242/cayleypy-general/pilgrim/searcher.py\", line 72, in do_greedy_step\n",
      "    batch_states = self.apply_move(states[idx0[idx1[i:i+self.batch_size]]], moves[idx1[i:i+self.batch_size]])\n",
      "  File \"/home/ka1242/cayleypy-general/pilgrim/searcher.py\", line 53, in apply_move\n",
      "    moved_states = torch.empty(states.size(0), self.state_size, device=self.device, dtype=states.dtype)\n",
      "KeyboardInterrupt\n"
     ]
    },
    {
     "ename": "KeyboardInterrupt",
     "evalue": "",
     "output_type": "error",
     "traceback": [
      "\u001b[0;31m---------------------------------------------------------------------------\u001b[0m",
      "\u001b[0;31mKeyboardInterrupt\u001b[0m                         Traceback (most recent call last)",
      "Cell \u001b[0;32mIn[19], line 1\u001b[0m\n\u001b[0;32m----> 1\u001b[0m \u001b[43msubprocess\u001b[49m\u001b[38;5;241;43m.\u001b[39;49m\u001b[43mrun\u001b[49m\u001b[43m(\u001b[49m\u001b[43m[\u001b[49m\n\u001b[1;32m      2\u001b[0m \u001b[43m    \u001b[49m\u001b[38;5;124;43m\"\u001b[39;49m\u001b[38;5;124;43m/home/ka1242/.conda/envs/ka1242_env/bin/python\u001b[39;49m\u001b[38;5;124;43m\"\u001b[39;49m\u001b[43m,\u001b[49m\u001b[43m \u001b[49m\u001b[38;5;124;43m\"\u001b[39;49m\u001b[38;5;124;43mtest.py\u001b[39;49m\u001b[38;5;124;43m\"\u001b[39;49m\u001b[43m,\u001b[49m\u001b[43m \u001b[49m\n\u001b[1;32m      3\u001b[0m \u001b[43m    \u001b[49m\u001b[38;5;124;43m\"\u001b[39;49m\u001b[38;5;124;43m--group_id\u001b[39;49m\u001b[38;5;124;43m\"\u001b[39;49m\u001b[43m,\u001b[49m\u001b[43m \u001b[49m\u001b[38;5;124;43m\"\u001b[39;49m\u001b[38;5;124;43m38\u001b[39;49m\u001b[38;5;124;43m\"\u001b[39;49m\u001b[43m,\u001b[49m\u001b[43m \u001b[49m\n\u001b[1;32m      4\u001b[0m \u001b[43m    \u001b[49m\u001b[38;5;124;43m\"\u001b[39;49m\u001b[38;5;124;43m--target_id\u001b[39;49m\u001b[38;5;124;43m\"\u001b[39;49m\u001b[43m,\u001b[49m\u001b[43m \u001b[49m\u001b[38;5;124;43m\"\u001b[39;49m\u001b[38;5;124;43m0\u001b[39;49m\u001b[38;5;124;43m\"\u001b[39;49m\u001b[43m,\u001b[49m\u001b[43m \u001b[49m\n\u001b[1;32m      5\u001b[0m \u001b[43m    \u001b[49m\u001b[38;5;124;43m\"\u001b[39;49m\u001b[38;5;124;43m--tests_num\u001b[39;49m\u001b[38;5;124;43m\"\u001b[39;49m\u001b[43m,\u001b[49m\u001b[43m \u001b[49m\u001b[38;5;124;43m\"\u001b[39;49m\u001b[38;5;124;43m10\u001b[39;49m\u001b[38;5;124;43m\"\u001b[39;49m\u001b[43m,\u001b[49m\u001b[43m \u001b[49m\n\u001b[1;32m      6\u001b[0m \u001b[43m    \u001b[49m\u001b[38;5;124;43m\"\u001b[39;49m\u001b[38;5;124;43m--dataset\u001b[39;49m\u001b[38;5;124;43m\"\u001b[39;49m\u001b[43m,\u001b[49m\u001b[43m \u001b[49m\u001b[38;5;124;43m\"\u001b[39;49m\u001b[38;5;124;43mrnd\u001b[39;49m\u001b[38;5;124;43m\"\u001b[39;49m\u001b[43m,\u001b[49m\u001b[43m \u001b[49m\n\u001b[1;32m      7\u001b[0m \u001b[43m    \u001b[49m\u001b[38;5;124;43m\"\u001b[39;49m\u001b[38;5;124;43m--epoch\u001b[39;49m\u001b[38;5;124;43m\"\u001b[39;49m\u001b[43m,\u001b[49m\u001b[43m \u001b[49m\u001b[38;5;124;43m\"\u001b[39;49m\u001b[38;5;124;43m8\u001b[39;49m\u001b[38;5;124;43m\"\u001b[39;49m\u001b[43m,\u001b[49m\u001b[43m \u001b[49m\n\u001b[1;32m      8\u001b[0m \u001b[43m    \u001b[49m\u001b[38;5;124;43m\"\u001b[39;49m\u001b[38;5;124;43m--model_id\u001b[39;49m\u001b[38;5;124;43m\"\u001b[39;49m\u001b[43m,\u001b[49m\u001b[43m \u001b[49m\u001b[38;5;28;43mstr\u001b[39;49m\u001b[43m(\u001b[49m\u001b[43mmodel_id\u001b[49m\u001b[43m)\u001b[49m\u001b[43m,\u001b[49m\u001b[43m \u001b[49m\n\u001b[1;32m      9\u001b[0m \u001b[43m    \u001b[49m\u001b[38;5;124;43m\"\u001b[39;49m\u001b[38;5;124;43m--num_steps\u001b[39;49m\u001b[38;5;124;43m\"\u001b[39;49m\u001b[43m,\u001b[49m\u001b[43m \u001b[49m\u001b[38;5;124;43m\"\u001b[39;49m\u001b[38;5;124;43m500\u001b[39;49m\u001b[38;5;124;43m\"\u001b[39;49m\u001b[43m,\u001b[49m\u001b[43m \u001b[49m\n\u001b[1;32m     10\u001b[0m \u001b[43m    \u001b[49m\u001b[38;5;124;43m\"\u001b[39;49m\u001b[38;5;124;43m--verbose\u001b[39;49m\u001b[38;5;124;43m\"\u001b[39;49m\u001b[43m,\u001b[49m\u001b[43m \u001b[49m\u001b[38;5;124;43m\"\u001b[39;49m\u001b[38;5;124;43m0\u001b[39;49m\u001b[38;5;124;43m\"\u001b[39;49m\u001b[43m,\u001b[49m\n\u001b[1;32m     11\u001b[0m \u001b[43m    \u001b[49m\u001b[38;5;124;43m\"\u001b[39;49m\u001b[38;5;124;43m--B\u001b[39;49m\u001b[38;5;124;43m\"\u001b[39;49m\u001b[43m,\u001b[49m\u001b[43m \u001b[49m\u001b[38;5;28;43mstr\u001b[39;49m\u001b[43m(\u001b[49m\u001b[38;5;241;43m2\u001b[39;49m\u001b[38;5;241;43m*\u001b[39;49m\u001b[38;5;241;43m*\u001b[39;49m\u001b[38;5;241;43m18\u001b[39;49m\u001b[43m)\u001b[49m\n\u001b[1;32m     12\u001b[0m \u001b[43m]\u001b[49m\u001b[43m)\u001b[49m\n",
      "File \u001b[0;32m~/.conda/envs/ka1242_env/lib/python3.9/subprocess.py:507\u001b[0m, in \u001b[0;36mrun\u001b[0;34m(input, capture_output, timeout, check, *popenargs, **kwargs)\u001b[0m\n\u001b[1;32m    505\u001b[0m \u001b[38;5;28;01mwith\u001b[39;00m Popen(\u001b[38;5;241m*\u001b[39mpopenargs, \u001b[38;5;241m*\u001b[39m\u001b[38;5;241m*\u001b[39mkwargs) \u001b[38;5;28;01mas\u001b[39;00m process:\n\u001b[1;32m    506\u001b[0m     \u001b[38;5;28;01mtry\u001b[39;00m:\n\u001b[0;32m--> 507\u001b[0m         stdout, stderr \u001b[38;5;241m=\u001b[39m \u001b[43mprocess\u001b[49m\u001b[38;5;241;43m.\u001b[39;49m\u001b[43mcommunicate\u001b[49m\u001b[43m(\u001b[49m\u001b[38;5;28;43minput\u001b[39;49m\u001b[43m,\u001b[49m\u001b[43m \u001b[49m\u001b[43mtimeout\u001b[49m\u001b[38;5;241;43m=\u001b[39;49m\u001b[43mtimeout\u001b[49m\u001b[43m)\u001b[49m\n\u001b[1;32m    508\u001b[0m     \u001b[38;5;28;01mexcept\u001b[39;00m TimeoutExpired \u001b[38;5;28;01mas\u001b[39;00m exc:\n\u001b[1;32m    509\u001b[0m         process\u001b[38;5;241m.\u001b[39mkill()\n",
      "File \u001b[0;32m~/.conda/envs/ka1242_env/lib/python3.9/subprocess.py:1126\u001b[0m, in \u001b[0;36mPopen.communicate\u001b[0;34m(self, input, timeout)\u001b[0m\n\u001b[1;32m   1124\u001b[0m         stderr \u001b[38;5;241m=\u001b[39m \u001b[38;5;28mself\u001b[39m\u001b[38;5;241m.\u001b[39mstderr\u001b[38;5;241m.\u001b[39mread()\n\u001b[1;32m   1125\u001b[0m         \u001b[38;5;28mself\u001b[39m\u001b[38;5;241m.\u001b[39mstderr\u001b[38;5;241m.\u001b[39mclose()\n\u001b[0;32m-> 1126\u001b[0m     \u001b[38;5;28;43mself\u001b[39;49m\u001b[38;5;241;43m.\u001b[39;49m\u001b[43mwait\u001b[49m\u001b[43m(\u001b[49m\u001b[43m)\u001b[49m\n\u001b[1;32m   1127\u001b[0m \u001b[38;5;28;01melse\u001b[39;00m:\n\u001b[1;32m   1128\u001b[0m     \u001b[38;5;28;01mif\u001b[39;00m timeout \u001b[38;5;129;01mis\u001b[39;00m \u001b[38;5;129;01mnot\u001b[39;00m \u001b[38;5;28;01mNone\u001b[39;00m:\n",
      "File \u001b[0;32m~/.conda/envs/ka1242_env/lib/python3.9/subprocess.py:1189\u001b[0m, in \u001b[0;36mPopen.wait\u001b[0;34m(self, timeout)\u001b[0m\n\u001b[1;32m   1187\u001b[0m     endtime \u001b[38;5;241m=\u001b[39m _time() \u001b[38;5;241m+\u001b[39m timeout\n\u001b[1;32m   1188\u001b[0m \u001b[38;5;28;01mtry\u001b[39;00m:\n\u001b[0;32m-> 1189\u001b[0m     \u001b[38;5;28;01mreturn\u001b[39;00m \u001b[38;5;28;43mself\u001b[39;49m\u001b[38;5;241;43m.\u001b[39;49m\u001b[43m_wait\u001b[49m\u001b[43m(\u001b[49m\u001b[43mtimeout\u001b[49m\u001b[38;5;241;43m=\u001b[39;49m\u001b[43mtimeout\u001b[49m\u001b[43m)\u001b[49m\n\u001b[1;32m   1190\u001b[0m \u001b[38;5;28;01mexcept\u001b[39;00m \u001b[38;5;167;01mKeyboardInterrupt\u001b[39;00m:\n\u001b[1;32m   1191\u001b[0m     \u001b[38;5;66;03m# https://bugs.python.org/issue25942\u001b[39;00m\n\u001b[1;32m   1192\u001b[0m     \u001b[38;5;66;03m# The first keyboard interrupt waits briefly for the child to\u001b[39;00m\n\u001b[1;32m   1193\u001b[0m     \u001b[38;5;66;03m# exit under the common assumption that it also received the ^C\u001b[39;00m\n\u001b[1;32m   1194\u001b[0m     \u001b[38;5;66;03m# generated SIGINT and will exit rapidly.\u001b[39;00m\n\u001b[1;32m   1195\u001b[0m     \u001b[38;5;28;01mif\u001b[39;00m timeout \u001b[38;5;129;01mis\u001b[39;00m \u001b[38;5;129;01mnot\u001b[39;00m \u001b[38;5;28;01mNone\u001b[39;00m:\n",
      "File \u001b[0;32m~/.conda/envs/ka1242_env/lib/python3.9/subprocess.py:1917\u001b[0m, in \u001b[0;36mPopen._wait\u001b[0;34m(self, timeout)\u001b[0m\n\u001b[1;32m   1915\u001b[0m \u001b[38;5;28;01mif\u001b[39;00m \u001b[38;5;28mself\u001b[39m\u001b[38;5;241m.\u001b[39mreturncode \u001b[38;5;129;01mis\u001b[39;00m \u001b[38;5;129;01mnot\u001b[39;00m \u001b[38;5;28;01mNone\u001b[39;00m:\n\u001b[1;32m   1916\u001b[0m     \u001b[38;5;28;01mbreak\u001b[39;00m  \u001b[38;5;66;03m# Another thread waited.\u001b[39;00m\n\u001b[0;32m-> 1917\u001b[0m (pid, sts) \u001b[38;5;241m=\u001b[39m \u001b[38;5;28;43mself\u001b[39;49m\u001b[38;5;241;43m.\u001b[39;49m\u001b[43m_try_wait\u001b[49m\u001b[43m(\u001b[49m\u001b[38;5;241;43m0\u001b[39;49m\u001b[43m)\u001b[49m\n\u001b[1;32m   1918\u001b[0m \u001b[38;5;66;03m# Check the pid and loop as waitpid has been known to\u001b[39;00m\n\u001b[1;32m   1919\u001b[0m \u001b[38;5;66;03m# return 0 even without WNOHANG in odd situations.\u001b[39;00m\n\u001b[1;32m   1920\u001b[0m \u001b[38;5;66;03m# http://bugs.python.org/issue14396.\u001b[39;00m\n\u001b[1;32m   1921\u001b[0m \u001b[38;5;28;01mif\u001b[39;00m pid \u001b[38;5;241m==\u001b[39m \u001b[38;5;28mself\u001b[39m\u001b[38;5;241m.\u001b[39mpid:\n",
      "File \u001b[0;32m~/.conda/envs/ka1242_env/lib/python3.9/subprocess.py:1875\u001b[0m, in \u001b[0;36mPopen._try_wait\u001b[0;34m(self, wait_flags)\u001b[0m\n\u001b[1;32m   1873\u001b[0m \u001b[38;5;250m\u001b[39m\u001b[38;5;124;03m\"\"\"All callers to this function MUST hold self._waitpid_lock.\"\"\"\u001b[39;00m\n\u001b[1;32m   1874\u001b[0m \u001b[38;5;28;01mtry\u001b[39;00m:\n\u001b[0;32m-> 1875\u001b[0m     (pid, sts) \u001b[38;5;241m=\u001b[39m \u001b[43mos\u001b[49m\u001b[38;5;241;43m.\u001b[39;49m\u001b[43mwaitpid\u001b[49m\u001b[43m(\u001b[49m\u001b[38;5;28;43mself\u001b[39;49m\u001b[38;5;241;43m.\u001b[39;49m\u001b[43mpid\u001b[49m\u001b[43m,\u001b[49m\u001b[43m \u001b[49m\u001b[43mwait_flags\u001b[49m\u001b[43m)\u001b[49m\n\u001b[1;32m   1876\u001b[0m \u001b[38;5;28;01mexcept\u001b[39;00m \u001b[38;5;167;01mChildProcessError\u001b[39;00m:\n\u001b[1;32m   1877\u001b[0m     \u001b[38;5;66;03m# This happens if SIGCLD is set to be ignored or waiting\u001b[39;00m\n\u001b[1;32m   1878\u001b[0m     \u001b[38;5;66;03m# for child processes has otherwise been disabled for our\u001b[39;00m\n\u001b[1;32m   1879\u001b[0m     \u001b[38;5;66;03m# process.  This child is dead, we can't get the status.\u001b[39;00m\n\u001b[1;32m   1880\u001b[0m     pid \u001b[38;5;241m=\u001b[39m \u001b[38;5;28mself\u001b[39m\u001b[38;5;241m.\u001b[39mpid\n",
      "\u001b[0;31mKeyboardInterrupt\u001b[0m: "
     ]
    }
   ],
   "source": [
    "subprocess.run([\n",
    "    \"/home/ka1242/.conda/envs/ka1242_env/bin/python\", \"test.py\", \n",
    "    \"--group_id\", \"38\", \n",
    "    \"--target_id\", \"0\", \n",
    "    \"--tests_num\", \"10\", \n",
    "    \"--dataset\", \"rnd\", \n",
    "    \"--epoch\", \"32\", \n",
    "    \"--model_id\", str(model_id), \n",
    "    \"--num_steps\", \"500\", \n",
    "    \"--verbose\", \"0\",\n",
    "    \"--B\", str(2**18)\n",
    "])"
   ]
  },
  {
   "cell_type": "code",
   "execution_count": 18,
   "id": "6449297a",
   "metadata": {
    "ExecuteTime": {
     "end_time": "2025-04-12T01:41:18.218110Z",
     "start_time": "2025-04-12T01:37:25.792816Z"
    },
    "hidden": true
   },
   "outputs": [
    {
     "name": "stdout",
     "output_type": "stream",
     "text": [
      "[2025-04-12 03:37:27] Start testing with cuda:0.\n",
      "Group info:\n",
      "  # generators   4\n",
      "  # classes      30\n",
      "  state size     30\n",
      "Test dataset size: 10\n",
      "[2025-04-12 03:38:09] Solution 0 not found\n",
      "[2025-04-12 03:38:23] Solution 1: Length = 354\n",
      "[2025-04-12 03:38:42] Solution 2 not found\n",
      "[2025-04-12 03:39:06] Solution 3: Length = 394\n",
      "[2025-04-12 03:39:35] Solution 4: Length = 500\n",
      "[2025-04-12 03:39:48] Solution 5: Length = 335\n",
      "[2025-04-12 03:40:12] Solution 6: Length = 430\n",
      "[2025-04-12 03:40:27] Solution 7 not found\n",
      "[2025-04-12 03:41:06] Solution 8 not found\n",
      "[2025-04-12 03:41:17] Solution 9: Length = 276\n",
      "Test completed in 229.77s.\n",
      "Average solution length: 381.50.\n",
      "Solved 6/10 scrambles.\n",
      "Results saved to logs/test_p038-t000-rnd_1744416835_16_B262144.json.\n"
     ]
    },
    {
     "data": {
      "text/plain": [
       "CompletedProcess(args=['/home/ka1242/.conda/envs/ka1242_env/bin/python', 'test.py', '--group_id', '38', '--target_id', '0', '--tests_num', '10', '--dataset', 'rnd', '--epoch', '16', '--model_id', '1744416835', '--num_steps', '500', '--verbose', '0', '--B', '262144'], returncode=0)"
      ]
     },
     "execution_count": 18,
     "metadata": {},
     "output_type": "execute_result"
    }
   ],
   "source": [
    "subprocess.run([\n",
    "    \"/home/ka1242/.conda/envs/ka1242_env/bin/python\", \"test.py\", \n",
    "    \"--group_id\", \"38\", \n",
    "    \"--target_id\", \"0\", \n",
    "    \"--tests_num\", \"10\", \n",
    "    \"--dataset\", \"rnd\", \n",
    "    \"--epoch\", \"16\", \n",
    "    \"--model_id\", str(model_id), \n",
    "    \"--num_steps\", \"500\", \n",
    "    \"--verbose\", \"0\",\n",
    "    \"--B\", str(2**18)\n",
    "]);"
   ]
  },
  {
   "cell_type": "code",
   "execution_count": 16,
   "id": "bcef4180",
   "metadata": {
    "ExecuteTime": {
     "end_time": "2025-04-12T01:34:53.464893Z",
     "start_time": "2025-04-12T01:32:02.537455Z"
    },
    "hidden": true
   },
   "outputs": [
    {
     "name": "stdout",
     "output_type": "stream",
     "text": [
      "[2025-04-12 03:32:04] Start testing with cuda:0.\n",
      "Group info:\n",
      "  # generators   4\n",
      "  # classes      30\n",
      "  state size     30\n",
      "Test dataset size: 10\n",
      "[2025-04-12 03:32:29] Solution 0 not found\n",
      "[2025-04-12 03:32:42] Solution 1: Length = 340\n",
      "[2025-04-12 03:33:03] Solution 2 not found\n",
      "[2025-04-12 03:33:17] Solution 3: Length = 354\n",
      "[2025-04-12 03:33:34] Solution 4 not found\n",
      "[2025-04-12 03:33:48] Solution 5: Length = 333\n",
      "[2025-04-12 03:34:05] Solution 6 not found\n",
      "[2025-04-12 03:34:28] Solution 7 not found\n",
      "[2025-04-12 03:34:42] Solution 8: Length = 365\n",
      "[2025-04-12 03:34:53] Solution 9: Length = 260\n",
      "Test completed in 168.30s.\n",
      "Average solution length: 330.40.\n",
      "Solved 5/10 scrambles.\n",
      "Results saved to logs/test_p038-t000-rnd_1744416835_32_B262144.json.\n"
     ]
    },
    {
     "data": {
      "text/plain": [
       "CompletedProcess(args=['/home/ka1242/.conda/envs/ka1242_env/bin/python', 'test.py', '--group_id', '38', '--target_id', '0', '--tests_num', '10', '--dataset', 'rnd', '--epoch', '32', '--model_id', '1744416835', '--num_steps', '500', '--verbose', '0', '--B', '262144'], returncode=0)"
      ]
     },
     "execution_count": 16,
     "metadata": {},
     "output_type": "execute_result"
    }
   ],
   "source": [
    "subprocess.run([\n",
    "    \"/home/ka1242/.conda/envs/ka1242_env/bin/python\", \"test.py\", \n",
    "    \"--group_id\", \"38\", \n",
    "    \"--target_id\", \"0\", \n",
    "    \"--tests_num\", \"10\", \n",
    "    \"--dataset\", \"rnd\", \n",
    "    \"--epoch\", \"32\", \n",
    "    \"--model_id\", str(model_id), \n",
    "    \"--num_steps\", \"500\", \n",
    "    \"--verbose\", \"0\",\n",
    "    \"--B\", str(2**18)\n",
    "]);"
   ]
  },
  {
   "cell_type": "code",
   "execution_count": 17,
   "id": "36698956",
   "metadata": {
    "ExecuteTime": {
     "end_time": "2025-04-12T01:37:25.787053Z",
     "start_time": "2025-04-12T01:34:53.470998Z"
    },
    "hidden": true
   },
   "outputs": [
    {
     "name": "stdout",
     "output_type": "stream",
     "text": [
      "[2025-04-12 03:34:55] Start testing with cuda:0.\n",
      "Group info:\n",
      "  # generators   4\n",
      "  # classes      30\n",
      "  state size     30\n",
      "Test dataset size: 10\n",
      "[2025-04-12 03:35:16] Solution 0: Length = 441\n",
      "[2025-04-12 03:35:29] Solution 1: Length = 336\n",
      "[2025-04-12 03:35:43] Solution 2 not found\n",
      "[2025-04-12 03:36:03] Solution 3 not found\n",
      "[2025-04-12 03:36:17] Solution 4 not found\n",
      "[2025-04-12 03:36:30] Solution 5: Length = 331\n",
      "[2025-04-12 03:36:44] Solution 6 not found\n",
      "[2025-04-12 03:36:59] Solution 7: Length = 372\n",
      "[2025-04-12 03:37:13] Solution 8: Length = 367\n",
      "[2025-04-12 03:37:25] Solution 9: Length = 292\n",
      "Test completed in 149.30s.\n",
      "Average solution length: 356.50.\n",
      "Solved 6/10 scrambles.\n",
      "Results saved to logs/test_p038-t000-rnd_1744416835_64_B262144.json.\n"
     ]
    },
    {
     "data": {
      "text/plain": [
       "CompletedProcess(args=['/home/ka1242/.conda/envs/ka1242_env/bin/python', 'test.py', '--group_id', '38', '--target_id', '0', '--tests_num', '10', '--dataset', 'rnd', '--epoch', '64', '--model_id', '1744416835', '--num_steps', '500', '--verbose', '0', '--B', '262144'], returncode=0)"
      ]
     },
     "execution_count": 17,
     "metadata": {},
     "output_type": "execute_result"
    }
   ],
   "source": [
    "subprocess.run([\n",
    "    \"/home/ka1242/.conda/envs/ka1242_env/bin/python\", \"test.py\", \n",
    "    \"--group_id\", \"38\", \n",
    "    \"--target_id\", \"0\", \n",
    "    \"--tests_num\", \"10\", \n",
    "    \"--dataset\", \"rnd\", \n",
    "    \"--epoch\", \"64\", \n",
    "    \"--model_id\", str(model_id), \n",
    "    \"--num_steps\", \"500\", \n",
    "    \"--verbose\", \"0\",\n",
    "    \"--B\", str(2**18)\n",
    "]);"
   ]
  },
  {
   "cell_type": "code",
   "execution_count": null,
   "id": "91280a5f",
   "metadata": {
    "ExecuteTime": {
     "end_time": "2025-04-12T01:42:22.438867Z",
     "start_time": "2025-04-12T01:42:22.438822Z"
    },
    "hidden": true
   },
   "outputs": [],
   "source": [
    "subprocess.run([\n",
    "    \"/home/ka1242/.conda/envs/ka1242_env/bin/python\", \"test.py\", \n",
    "    \"--group_id\", \"38\", \n",
    "    \"--target_id\", \"0\", \n",
    "    \"--tests_num\", \"10\", \n",
    "    \"--dataset\", \"rnd\", \n",
    "    \"--epoch\", \"128\", \n",
    "    \"--model_id\", str(model_id), \n",
    "    \"--num_steps\", \"500\", \n",
    "    \"--verbose\", \"0\",\n",
    "    \"--B\", str(2**18)\n",
    "]);"
   ]
  },
  {
   "cell_type": "code",
   "execution_count": null,
   "id": "0515b7c5",
   "metadata": {
    "ExecuteTime": {
     "end_time": "2025-04-12T01:42:22.441790Z",
     "start_time": "2025-04-12T01:42:22.441758Z"
    },
    "hidden": true
   },
   "outputs": [],
   "source": [
    "subprocess.run([\n",
    "    \"/home/ka1242/.conda/envs/ka1242_env/bin/python\", \"test.py\", \n",
    "    \"--group_id\", \"38\", \n",
    "    \"--target_id\", \"0\", \n",
    "    \"--tests_num\", \"10\", \n",
    "    \"--dataset\", \"rnd\", \n",
    "    \"--epoch\", \"256\", \n",
    "    \"--model_id\", str(model_id), \n",
    "    \"--num_steps\", \"500\", \n",
    "    \"--verbose\", \"0\",\n",
    "    \"--B\", str(2**18)\n",
    "]);"
   ]
  },
  {
   "cell_type": "markdown",
   "id": "5b7dcf9e",
   "metadata": {
    "heading_collapsed": true
   },
   "source": [
    "## Train 2"
   ]
  },
  {
   "cell_type": "code",
   "execution_count": 20,
   "id": "c25ec2b3",
   "metadata": {
    "ExecuteTime": {
     "end_time": "2025-04-12T01:47:18.706061Z",
     "start_time": "2025-04-12T01:42:52.358880Z"
    },
    "hidden": true
   },
   "outputs": [
    {
     "name": "stdout",
     "output_type": "stream",
     "text": [
      "Start training with cuda:0.\n",
      "Group info:\n",
      "  # generators   4\n",
      "  # classes      30\n",
      "  state size     30\n",
      "Model info:\n",
      "  mode          MLP2RB\n",
      "  name          p038-t000\n",
      "  id            1744422175\n",
      "  # parameters  1_320_449\n",
      "[2025-04-12 03:42:56] Saved weights at epoch     1. Train Loss: 46007.20\n",
      "[2025-04-12 03:42:57] Saved weights at epoch     2. Train Loss: 28497.37\n",
      "[2025-04-12 03:42:59] Saved weights at epoch     4. Train Loss: 5644.02\n",
      "[2025-04-12 03:43:03] Saved weights at epoch     8. Train Loss: 2661.95\n",
      "[2025-04-12 03:43:11] Saved weights at epoch    16. Train Loss: 2615.81\n",
      "[2025-04-12 03:43:26] Saved weights at epoch    32. Train Loss: 2600.11\n",
      "[2025-04-12 03:43:59] Saved weights at epoch    64. Train Loss: 2573.00\n",
      "[2025-04-12 03:45:05] Saved weights at epoch   128. Train Loss: 2560.49\n",
      "[2025-04-12 03:47:17] Saved weights at epoch   256. Train Loss: 2543.55\n",
      "[2025-04-12 03:47:17] Finished. Saved final weights at epoch 256. Train Loss: 2543.55.\n"
     ]
    }
   ],
   "source": [
    "subprocess.run([\n",
    "        \"/home/ka1242/.conda/envs/ka1242_env/bin/python\", \"train.py\", \n",
    "         \"--group_id\", \"38\", \n",
    "         \"--target_id\", \"0\", \n",
    "         \"--epochs\", \"256\", \n",
    "         \"--hd1\", \"1024\",\n",
    "         \"--hd2\", \"256\", \n",
    "         \"--nrd\", \"1\",\n",
    "        \"--batch_size\", \"10_000\",\n",
    "         \"--K_max\", \"400\"\n",
    "    ]);"
   ]
  },
  {
   "cell_type": "code",
   "execution_count": 22,
   "id": "28c3f735",
   "metadata": {
    "ExecuteTime": {
     "end_time": "2025-04-12T01:49:01.727442Z",
     "start_time": "2025-04-12T01:49:01.720285Z"
    },
    "hidden": true
   },
   "outputs": [],
   "source": [
    "# model_id = sorted(os.listdir(\"weights/\"))[-1].split(\"_\")[1]\n",
    "model_id = '1744422175'"
   ]
  },
  {
   "cell_type": "code",
   "execution_count": null,
   "id": "591e5951",
   "metadata": {
    "ExecuteTime": {
     "end_time": "2025-04-12T01:42:22.448644Z",
     "start_time": "2025-04-12T01:42:22.448617Z"
    },
    "hidden": true
   },
   "outputs": [],
   "source": [
    "subprocess.run([\n",
    "    \"/home/ka1242/.conda/envs/ka1242_env/bin/python\", \"test.py\", \n",
    "    \"--group_id\", \"38\", \n",
    "    \"--target_id\", \"0\", \n",
    "    \"--tests_num\", \"10\", \n",
    "    \"--dataset\", \"rnd\", \n",
    "    \"--epoch\", \"8\", \n",
    "    \"--model_id\", str(model_id), \n",
    "    \"--num_steps\", \"500\", \n",
    "    \"--verbose\", \"0\",\n",
    "    \"--B\", str(2**18)\n",
    "]);"
   ]
  },
  {
   "cell_type": "code",
   "execution_count": 23,
   "id": "b4075af8",
   "metadata": {
    "ExecuteTime": {
     "end_time": "2025-04-12T01:52:17.244995Z",
     "start_time": "2025-04-12T01:49:05.826198Z"
    },
    "hidden": true
   },
   "outputs": [
    {
     "name": "stdout",
     "output_type": "stream",
     "text": [
      "[2025-04-12 03:49:07] Start testing with cuda:0.\n",
      "Group info:\n",
      "  # generators   4\n",
      "  # classes      30\n",
      "  state size     30\n",
      "Test dataset size: 10\n",
      "[2025-04-12 03:49:35] Solution 0 not found\n",
      "[2025-04-12 03:49:50] Solution 1: Length = 366\n",
      "[2025-04-12 03:50:08] Solution 2: Length = 436\n",
      "[2025-04-12 03:50:24] Solution 3: Length = 372\n",
      "[2025-04-12 03:50:51] Solution 4 not found\n",
      "[2025-04-12 03:51:05] Solution 5: Length = 341\n",
      "[2025-04-12 03:51:24] Solution 6: Length = 458\n",
      "[2025-04-12 03:51:46] Solution 7 not found\n",
      "[2025-04-12 03:52:05] Solution 8: Length = 447\n",
      "[2025-04-12 03:52:16] Solution 9: Length = 278\n",
      "Test completed in 188.62s.\n",
      "Average solution length: 385.43.\n",
      "Solved 7/10 scrambles.\n",
      "Results saved to logs/test_p038-t000-rnd_1744422175_16_B262144.json.\n"
     ]
    },
    {
     "data": {
      "text/plain": [
       "CompletedProcess(args=['/home/ka1242/.conda/envs/ka1242_env/bin/python', 'test.py', '--group_id', '38', '--target_id', '0', '--tests_num', '10', '--dataset', 'rnd', '--epoch', '16', '--model_id', '1744422175', '--num_steps', '500', '--verbose', '0', '--B', '262144'], returncode=0)"
      ]
     },
     "execution_count": 23,
     "metadata": {},
     "output_type": "execute_result"
    }
   ],
   "source": [
    "subprocess.run([\n",
    "    \"/home/ka1242/.conda/envs/ka1242_env/bin/python\", \"test.py\", \n",
    "    \"--group_id\", \"38\", \n",
    "    \"--target_id\", \"0\", \n",
    "    \"--tests_num\", \"10\", \n",
    "    \"--dataset\", \"rnd\", \n",
    "    \"--epoch\", \"16\", \n",
    "    \"--model_id\", str(model_id), \n",
    "    \"--num_steps\", \"500\", \n",
    "    \"--verbose\", \"0\",\n",
    "    \"--B\", str(2**18)\n",
    "]);"
   ]
  },
  {
   "cell_type": "code",
   "execution_count": null,
   "id": "aa1a4583",
   "metadata": {
    "ExecuteTime": {
     "end_time": "2025-04-12T01:42:22.454265Z",
     "start_time": "2025-04-12T01:42:22.454238Z"
    },
    "hidden": true
   },
   "outputs": [],
   "source": [
    "subprocess.run([\n",
    "    \"/home/ka1242/.conda/envs/ka1242_env/bin/python\", \"test.py\", \n",
    "    \"--group_id\", \"38\", \n",
    "    \"--target_id\", \"0\", \n",
    "    \"--tests_num\", \"10\", \n",
    "    \"--dataset\", \"rnd\", \n",
    "    \"--epoch\", \"32\", \n",
    "    \"--model_id\", str(model_id), \n",
    "    \"--num_steps\", \"500\", \n",
    "    \"--verbose\", \"0\",\n",
    "    \"--B\", str(2**18)\n",
    "]);"
   ]
  },
  {
   "cell_type": "code",
   "execution_count": null,
   "id": "d5317c19",
   "metadata": {
    "ExecuteTime": {
     "end_time": "2025-04-12T01:42:22.456593Z",
     "start_time": "2025-04-12T01:42:22.456566Z"
    },
    "hidden": true
   },
   "outputs": [],
   "source": [
    "subprocess.run([\n",
    "    \"/home/ka1242/.conda/envs/ka1242_env/bin/python\", \"test.py\", \n",
    "    \"--group_id\", \"38\", \n",
    "    \"--target_id\", \"0\", \n",
    "    \"--tests_num\", \"10\", \n",
    "    \"--dataset\", \"rnd\", \n",
    "    \"--epoch\", \"64\", \n",
    "    \"--model_id\", str(model_id), \n",
    "    \"--num_steps\", \"500\", \n",
    "    \"--verbose\", \"0\",\n",
    "    \"--B\", str(2**18)\n",
    "]);"
   ]
  },
  {
   "cell_type": "code",
   "execution_count": null,
   "id": "1dd21399",
   "metadata": {
    "ExecuteTime": {
     "end_time": "2025-04-12T01:42:22.459129Z",
     "start_time": "2025-04-12T01:42:22.459101Z"
    },
    "hidden": true
   },
   "outputs": [],
   "source": [
    "subprocess.run([\n",
    "    \"/home/ka1242/.conda/envs/ka1242_env/bin/python\", \"test.py\", \n",
    "    \"--group_id\", \"38\", \n",
    "    \"--target_id\", \"0\", \n",
    "    \"--tests_num\", \"10\", \n",
    "    \"--dataset\", \"rnd\", \n",
    "    \"--epoch\", \"128\", \n",
    "    \"--model_id\", str(model_id), \n",
    "    \"--num_steps\", \"500\", \n",
    "    \"--verbose\", \"0\",\n",
    "    \"--B\", str(2**18)\n",
    "]);"
   ]
  },
  {
   "cell_type": "code",
   "execution_count": 24,
   "id": "39b17726",
   "metadata": {
    "ExecuteTime": {
     "end_time": "2025-04-12T01:55:13.673487Z",
     "start_time": "2025-04-12T01:52:27.125436Z"
    },
    "hidden": true
   },
   "outputs": [
    {
     "name": "stdout",
     "output_type": "stream",
     "text": [
      "[2025-04-12 03:52:29] Start testing with cuda:0.\n",
      "Group info:\n",
      "  # generators   4\n",
      "  # classes      30\n",
      "  state size     30\n",
      "Test dataset size: 10\n"
     ]
    },
    {
     "name": "stderr",
     "output_type": "stream",
     "text": [
      "  y_min = 355.8, y_mean = 364.5, y_max = 366.2:  55%|█████▍    | 273/500 [00:10<00:08, 25.65it/s]\n",
      "  y_min = 355.5, y_mean = 365.8, y_max = 367.2:  64%|██████▎   | 318/500 [00:13<00:07, 23.94it/s]\n"
     ]
    },
    {
     "name": "stdout",
     "output_type": "stream",
     "text": [
      "[2025-04-12 03:52:54] Solution 0 not found\n"
     ]
    },
    {
     "name": "stderr",
     "output_type": "stream",
     "text": [
      "  y_min = 4.3, y_mean = 55.3, y_max = 61.6:  63%|██████▎   | 313/500 [00:11<00:07, 26.33it/s]    \n"
     ]
    },
    {
     "name": "stdout",
     "output_type": "stream",
     "text": [
      "[2025-04-12 03:53:06] Solution 1: Length = 314\n"
     ]
    },
    {
     "name": "stderr",
     "output_type": "stream",
     "text": [
      "  y_min = 4.3, y_mean = 58.3, y_max = 65.4:  73%|███████▎  | 365/500 [00:13<00:05, 26.15it/s]    \n"
     ]
    },
    {
     "name": "stdout",
     "output_type": "stream",
     "text": [
      "[2025-04-12 03:53:21] Solution 2: Length = 366\n"
     ]
    },
    {
     "name": "stderr",
     "output_type": "stream",
     "text": [
      "  y_min = 4.3, y_mean = 54.3, y_max = 60.9:  74%|███████▍  | 371/500 [00:14<00:04, 26.07it/s]    \n"
     ]
    },
    {
     "name": "stdout",
     "output_type": "stream",
     "text": [
      "[2025-04-12 03:53:36] Solution 3: Length = 372\n"
     ]
    },
    {
     "name": "stderr",
     "output_type": "stream",
     "text": [
      "  y_min = 368.8, y_mean = 377.0, y_max = 378.8:  57%|█████▋    | 283/500 [00:10<00:07, 27.13it/s]\n",
      "  y_min = 4.3, y_mean = 62.7, y_max = 69.1:  75%|███████▍  | 373/500 [00:14<00:04, 25.60it/s]    \n"
     ]
    },
    {
     "name": "stdout",
     "output_type": "stream",
     "text": [
      "[2025-04-12 03:54:02] Solution 4: Length = 374\n"
     ]
    },
    {
     "name": "stderr",
     "output_type": "stream",
     "text": [
      "  y_min = 4.3, y_mean = 50.8, y_max = 57.1:  64%|██████▍   | 320/500 [00:13<00:07, 23.29it/s]    \n"
     ]
    },
    {
     "name": "stdout",
     "output_type": "stream",
     "text": [
      "[2025-04-12 03:54:16] Solution 5: Length = 321\n"
     ]
    },
    {
     "name": "stderr",
     "output_type": "stream",
     "text": [
      "  y_min = 4.3, y_mean = 53.8, y_max = 61.0:  71%|███████   | 355/500 [00:13<00:05, 26.54it/s]    \n"
     ]
    },
    {
     "name": "stdout",
     "output_type": "stream",
     "text": [
      "[2025-04-12 03:54:30] Solution 6: Length = 356\n"
     ]
    },
    {
     "name": "stderr",
     "output_type": "stream",
     "text": [
      "  y_min = 378.5, y_mean = 386.5, y_max = 388.0:  45%|████▍     | 224/500 [00:07<00:09, 28.11it/s]\n",
      "  y_min = 379.0, y_mean = 387.0, y_max = 388.5:  50%|█████     | 251/500 [00:09<00:09, 26.90it/s]\n"
     ]
    },
    {
     "name": "stdout",
     "output_type": "stream",
     "text": [
      "[2025-04-12 03:54:48] Solution 7 not found\n"
     ]
    },
    {
     "name": "stderr",
     "output_type": "stream",
     "text": [
      "  y_min = 4.3, y_mean = 53.2, y_max = 59.8:  73%|███████▎  | 366/500 [00:13<00:05, 26.45it/s]    \n"
     ]
    },
    {
     "name": "stdout",
     "output_type": "stream",
     "text": [
      "[2025-04-12 03:55:03] Solution 8: Length = 367\n"
     ]
    },
    {
     "name": "stderr",
     "output_type": "stream",
     "text": [
      "  y_min = 4.3, y_mean = 54.6, y_max = 61.3:  50%|█████     | 251/500 [00:09<00:09, 26.41it/s]    \n"
     ]
    },
    {
     "name": "stdout",
     "output_type": "stream",
     "text": [
      "[2025-04-12 03:55:13] Solution 9: Length = 252\n",
      "Test completed in 163.84s.\n",
      "Average solution length: 340.25.\n",
      "Solved 8/10 scrambles.\n",
      "Results saved to logs/test_p038-t000-rnd_1744422175_256_B262144.json.\n"
     ]
    }
   ],
   "source": [
    "subprocess.run([\n",
    "    \"/home/ka1242/.conda/envs/ka1242_env/bin/python\", \"test.py\", \n",
    "    \"--group_id\", \"38\", \n",
    "    \"--target_id\", \"0\", \n",
    "    \"--tests_num\", \"10\", \n",
    "    \"--dataset\", \"rnd\", \n",
    "    \"--epoch\", \"256\", \n",
    "    \"--model_id\", str(model_id), \n",
    "    \"--num_steps\", \"500\", \n",
    "    \"--verbose\", \"1\",\n",
    "    \"--B\", str(2**18)\n",
    "]);"
   ]
  },
  {
   "cell_type": "markdown",
   "id": "37067883",
   "metadata": {
    "heading_collapsed": true
   },
   "source": [
    "## Train 3"
   ]
  },
  {
   "cell_type": "markdown",
   "id": "4820acad",
   "metadata": {
    "hidden": true
   },
   "source": [
    "Мы от baseline смотрим как влияет lr, batch size, model size, train size."
   ]
  },
  {
   "cell_type": "code",
   "execution_count": null,
   "id": "285ea1f0",
   "metadata": {
    "ExecuteTime": {
     "start_time": "2025-04-12T02:01:15.914Z"
    },
    "hidden": true
   },
   "outputs": [],
   "source": [
    "subprocess.run([\n",
    "    \"/home/ka1242/.conda/envs/ka1242_env/bin/python\", \"train.py\", \n",
    "    \"--group_id\", \"38\", \n",
    "    \"--target_id\", \"0\", \n",
    "    \"--epochs\", \"1024\", \n",
    "    \"--hd1\", \"1024\",\n",
    "    \"--hd2\", \"512\", \n",
    "    \"--nrd\", \"4\",\n",
    "    \"--batch_size\", \"10_000\",\n",
    "    \"--K_max\", \"400\"\n",
    "]);"
   ]
  },
  {
   "cell_type": "code",
   "execution_count": null,
   "id": "cc8f320f",
   "metadata": {
    "ExecuteTime": {
     "start_time": "2025-04-12T02:01:29.266Z"
    },
    "hidden": true
   },
   "outputs": [],
   "source": [
    "subprocess.run([\n",
    "    \"/home/ka1242/.conda/envs/ka1242_env/bin/python\", \"train.py\", \n",
    "    \"--group_id\", \"38\", \n",
    "    \"--target_id\", \"0\", \n",
    "    \"--epochs\", \"1024\", \n",
    "    \"--hd1\", \"1024\",\n",
    "    \"--hd2\", \"512\", \n",
    "    \"--nrd\", \"4\",\n",
    "    \"--batch_size\", \"10_000\",\n",
    "    \"--K_max\", \"400\"\n",
    "]);"
   ]
  },
  {
   "cell_type": "code",
   "execution_count": null,
   "id": "1da409a4",
   "metadata": {
    "hidden": true
   },
   "outputs": [],
   "source": []
  },
  {
   "cell_type": "code",
   "execution_count": null,
   "id": "7ad98f1f",
   "metadata": {
    "ExecuteTime": {
     "start_time": "2025-04-12T02:01:46.095Z"
    },
    "hidden": true
   },
   "outputs": [],
   "source": [
    "subprocess.run([\n",
    "    \"/home/ka1242/.conda/envs/ka1242_env/bin/python\", \"train.py\", \n",
    "    \"--group_id\", \"38\", \n",
    "    \"--target_id\", \"0\", \n",
    "    \"--epochs\", \"1024\", \n",
    "    \"--hd1\", \"1024\",\n",
    "    \"--hd2\", \"512\", \n",
    "    \"--nrd\", \"4\",\n",
    "    \"--batch_size\", \"1_000\",\n",
    "    \"--K_max\", \"400\"\n",
    "]);"
   ]
  },
  {
   "cell_type": "code",
   "execution_count": null,
   "id": "073d0574",
   "metadata": {
    "ExecuteTime": {
     "start_time": "2025-04-12T02:01:46.693Z"
    },
    "hidden": true
   },
   "outputs": [],
   "source": [
    "subprocess.run([\n",
    "    \"/home/ka1242/.conda/envs/ka1242_env/bin/python\", \"train.py\", \n",
    "    \"--group_id\", \"38\", \n",
    "    \"--target_id\", \"0\", \n",
    "    \"--epochs\", \"1024\", \n",
    "    \"--hd1\", \"1024\",\n",
    "    \"--hd2\", \"512\", \n",
    "    \"--nrd\", \"4\",\n",
    "    \"--batch_size\", \"1_000\",\n",
    "    \"--K_max\", \"400\"\n",
    "]);"
   ]
  },
  {
   "cell_type": "code",
   "execution_count": null,
   "id": "a51ef37f",
   "metadata": {
    "hidden": true
   },
   "outputs": [],
   "source": []
  },
  {
   "cell_type": "code",
   "execution_count": null,
   "id": "0bd14fc9",
   "metadata": {
    "ExecuteTime": {
     "start_time": "2025-04-12T02:04:07.577Z"
    },
    "hidden": true
   },
   "outputs": [],
   "source": [
    "subprocess.run([\n",
    "    \"/home/ka1242/.conda/envs/ka1242_env/bin/python\", \"train.py\", \n",
    "    \"--group_id\", \"38\", \n",
    "    \"--target_id\", \"0\", \n",
    "    \"--epochs\", \"1024\", \n",
    "    \"--hd1\", \"1024\",\n",
    "    \"--hd2\", \"512\", \n",
    "    \"--nrd\", \"4\",\n",
    "    \"--lr\", \"0.0001\",\n",
    "    \"--batch_size\", \"10_000\",\n",
    "    \"--K_max\", \"400\"\n",
    "]);"
   ]
  },
  {
   "cell_type": "code",
   "execution_count": null,
   "id": "0936944b",
   "metadata": {
    "ExecuteTime": {
     "start_time": "2025-04-12T02:04:13.786Z"
    },
    "hidden": true
   },
   "outputs": [],
   "source": [
    "subprocess.run([\n",
    "    \"/home/ka1242/.conda/envs/ka1242_env/bin/python\", \"train.py\", \n",
    "    \"--group_id\", \"38\", \n",
    "    \"--target_id\", \"0\", \n",
    "    \"--epochs\", \"1024\", \n",
    "    \"--hd1\", \"1024\",\n",
    "    \"--hd2\", \"512\", \n",
    "    \"--nrd\", \"4\",\n",
    "    \"--lr\", \"0.0001\",\n",
    "    \"--batch_size\", \"10_000\",\n",
    "    \"--K_max\", \"400\"\n",
    "]);"
   ]
  },
  {
   "cell_type": "code",
   "execution_count": null,
   "id": "7f8c1be4",
   "metadata": {
    "hidden": true
   },
   "outputs": [],
   "source": []
  },
  {
   "cell_type": "code",
   "execution_count": null,
   "id": "8b1d199d",
   "metadata": {
    "ExecuteTime": {
     "start_time": "2025-04-12T02:03:39.182Z"
    },
    "hidden": true
   },
   "outputs": [],
   "source": [
    "subprocess.run([\n",
    "    \"/home/ka1242/.conda/envs/ka1242_env/bin/python\", \"train.py\", \n",
    "    \"--group_id\", \"38\", \n",
    "    \"--target_id\", \"0\", \n",
    "    \"--epochs\", \"1024\", \n",
    "    \"--hd1\", \"1024\",\n",
    "    \"--hd2\", \"512\", \n",
    "    \"--nrd\", \"4\",\n",
    "    \"--lr\", \"0.0001\",\n",
    "    \"--batch_size\", \"1_000\",\n",
    "    \"--K_max\", \"400\"\n",
    "]);"
   ]
  },
  {
   "cell_type": "code",
   "execution_count": null,
   "id": "fed00779",
   "metadata": {
    "ExecuteTime": {
     "start_time": "2025-04-12T02:03:48.416Z"
    },
    "hidden": true
   },
   "outputs": [],
   "source": [
    "subprocess.run([\n",
    "    \"/home/ka1242/.conda/envs/ka1242_env/bin/python\", \"train.py\", \n",
    "    \"--group_id\", \"38\", \n",
    "    \"--target_id\", \"0\", \n",
    "    \"--epochs\", \"1024\", \n",
    "    \"--hd1\", \"1024\",\n",
    "    \"--hd2\", \"512\", \n",
    "    \"--nrd\", \"4\",\n",
    "    \"--lr\", \"0.0001\",\n",
    "    \"--batch_size\", \"1_000\",\n",
    "    \"--K_max\", \"400\"\n",
    "]);"
   ]
  },
  {
   "cell_type": "code",
   "execution_count": null,
   "id": "2049a790",
   "metadata": {
    "hidden": true
   },
   "outputs": [],
   "source": []
  },
  {
   "cell_type": "code",
   "execution_count": null,
   "id": "fafd6e36",
   "metadata": {
    "ExecuteTime": {
     "start_time": "2025-04-12T02:02:07.805Z"
    },
    "hidden": true
   },
   "outputs": [],
   "source": [
    "subprocess.run([\n",
    "    \"/home/ka1242/.conda/envs/ka1242_env/bin/python\", \"train.py\", \n",
    "    \"--group_id\", \"38\", \n",
    "    \"--target_id\", \"0\", \n",
    "    \"--epochs\", \"1024\", \n",
    "    \"--hd1\", \"1024\",\n",
    "    \"--hd2\", \"256\", \n",
    "    \"--nrd\", \"1\",\n",
    "    \"--batch_size\", \"10_000\",\n",
    "    \"--K_max\", \"400\"\n",
    "]);"
   ]
  },
  {
   "cell_type": "code",
   "execution_count": null,
   "id": "7b37bd82",
   "metadata": {
    "ExecuteTime": {
     "start_time": "2025-04-12T02:02:17.318Z"
    },
    "hidden": true
   },
   "outputs": [],
   "source": [
    "subprocess.run([\n",
    "    \"/home/ka1242/.conda/envs/ka1242_env/bin/python\", \"train.py\", \n",
    "    \"--group_id\", \"38\", \n",
    "    \"--target_id\", \"0\", \n",
    "    \"--epochs\", \"1024\", \n",
    "    \"--hd1\", \"1024\",\n",
    "    \"--hd2\", \"256\", \n",
    "    \"--nrd\", \"1\",\n",
    "    \"--batch_size\", \"10_000\",\n",
    "    \"--K_max\", \"400\"\n",
    "]);"
   ]
  },
  {
   "cell_type": "code",
   "execution_count": null,
   "id": "854ca92e",
   "metadata": {
    "hidden": true
   },
   "outputs": [],
   "source": []
  },
  {
   "cell_type": "code",
   "execution_count": null,
   "id": "189db175",
   "metadata": {
    "ExecuteTime": {
     "start_time": "2025-04-12T02:02:46.043Z"
    },
    "hidden": true
   },
   "outputs": [],
   "source": [
    "subprocess.run([\n",
    "    \"/home/ka1242/.conda/envs/ka1242_env/bin/python\", \"train.py\", \n",
    "    \"--group_id\", \"38\", \n",
    "    \"--target_id\", \"0\", \n",
    "    \"--epochs\", \"1024\", \n",
    "    \"--hd1\", \"1024\",\n",
    "    \"--hd2\", \"256\", \n",
    "    \"--nrd\", \"1\",\n",
    "    \"--batch_size\", \"1_000\",\n",
    "    \"--K_max\", \"400\"\n",
    "]);"
   ]
  },
  {
   "cell_type": "code",
   "execution_count": null,
   "id": "e47d1aa8",
   "metadata": {
    "ExecuteTime": {
     "start_time": "2025-04-12T02:02:49.882Z"
    },
    "hidden": true
   },
   "outputs": [],
   "source": [
    "subprocess.run([\n",
    "    \"/home/ka1242/.conda/envs/ka1242_env/bin/python\", \"train.py\", \n",
    "    \"--group_id\", \"38\", \n",
    "    \"--target_id\", \"0\", \n",
    "    \"--epochs\", \"1024\", \n",
    "    \"--hd1\", \"1024\",\n",
    "    \"--hd2\", \"256\", \n",
    "    \"--nrd\", \"1\",\n",
    "    \"--batch_size\", \"1_000\",\n",
    "    \"--K_max\", \"400\"\n",
    "]);"
   ]
  },
  {
   "cell_type": "code",
   "execution_count": null,
   "id": "28c8ada2",
   "metadata": {
    "hidden": true
   },
   "outputs": [],
   "source": []
  },
  {
   "cell_type": "markdown",
   "id": "d2c57067",
   "metadata": {},
   "source": [
    "## Read model info"
   ]
  },
  {
   "cell_type": "code",
   "execution_count": 61,
   "id": "52e2c28c",
   "metadata": {
    "ExecuteTime": {
     "end_time": "2025-04-13T16:57:14.024833Z",
     "start_time": "2025-04-13T16:57:14.015918Z"
    }
   },
   "outputs": [],
   "source": [
    "model_ids = [1744423278, 1744425283, 1744427287, 1744440932, 1744454785, 1744455851, 1744456910, 1744464279, 1744471368, 1744485557, 1744499104, 1744501093]"
   ]
  },
  {
   "cell_type": "code",
   "execution_count": 68,
   "id": "d4c916ff",
   "metadata": {
    "ExecuteTime": {
     "end_time": "2025-04-13T16:59:34.619976Z",
     "start_time": "2025-04-13T16:59:34.611236Z"
    }
   },
   "outputs": [],
   "source": [
    "def test_model(model_id, B=2**18, epoch=1024):\n",
    "    subprocess.run([\n",
    "        \"/home/ka1242/.conda/envs/ka1242_env/bin/python\", \"test.py\", \n",
    "        \"--group_id\", \"38\", \n",
    "        \"--target_id\", \"0\", \n",
    "        \"--tests_num\", \"10\", \n",
    "        \"--dataset\", \"rnd\", \n",
    "        \"--epoch\", str(epoch), \n",
    "        \"--model_id\", str(model_id), \n",
    "        \"--num_steps\", \"500\", \n",
    "        \"--verbose\", \"1\",\n",
    "        \"--B\", str(B)\n",
    "    ])"
   ]
  },
  {
   "cell_type": "code",
   "execution_count": null,
   "id": "d54eec16",
   "metadata": {
    "ExecuteTime": {
     "start_time": "2025-04-14T08:19:45.235Z"
    },
    "scrolled": true
   },
   "outputs": [
    {
     "name": "stdout",
     "output_type": "stream",
     "text": [
      "[2025-04-14 10:19:46] Start testing with cuda:0.\n",
      "Group info:\n",
      "  # generators   4\n",
      "  # classes      30\n",
      "  state size     30\n",
      "Test dataset size: 10\n"
     ]
    },
    {
     "name": "stderr",
     "output_type": "stream",
     "text": [
      "  y_min = 6.0, y_mean = 59.1, y_max = 65.1:  78%|███████▊  | 392/500 [01:46<00:29,  3.69it/s]    \n"
     ]
    },
    {
     "name": "stdout",
     "output_type": "stream",
     "text": [
      "[2025-04-14 10:21:35] Solution 0: Length = 393\n"
     ]
    },
    {
     "name": "stderr",
     "output_type": "stream",
     "text": [
      "  y_min = 6.0, y_mean = 56.7, y_max = 62.8:  67%|██████▋   | 333/500 [01:26<00:43,  3.86it/s]    \n"
     ]
    },
    {
     "name": "stdout",
     "output_type": "stream",
     "text": [
      "[2025-04-14 10:23:04] Solution 1: Length = 334\n"
     ]
    },
    {
     "name": "stderr",
     "output_type": "stream",
     "text": [
      "  y_min = 6.0, y_mean = 54.5, y_max = 60.3:  83%|████████▎ | 413/500 [01:48<00:22,  3.82it/s]    \n"
     ]
    },
    {
     "name": "stdout",
     "output_type": "stream",
     "text": [
      "[2025-04-14 10:24:54] Solution 2: Length = 414\n"
     ]
    },
    {
     "name": "stderr",
     "output_type": "stream",
     "text": [
      "  y_min = 6.1, y_mean = 56.5, y_max = 62.8:  69%|██████▉   | 345/500 [01:30<00:40,  3.83it/s]    \n"
     ]
    },
    {
     "name": "stdout",
     "output_type": "stream",
     "text": [
      "[2025-04-14 10:26:27] Solution 3: Length = 346\n"
     ]
    },
    {
     "name": "stderr",
     "output_type": "stream",
     "text": [
      "  y_min = 6.1, y_mean = 58.2, y_max = 64.0:  87%|████████▋ | 435/500 [01:55<00:17,  3.78it/s]    \n"
     ]
    },
    {
     "name": "stdout",
     "output_type": "stream",
     "text": [
      "[2025-04-14 10:28:25] Solution 4: Length = 436\n"
     ]
    },
    {
     "name": "stderr",
     "output_type": "stream",
     "text": [
      "  y_min = 6.0, y_mean = 57.0, y_max = 63.7:  65%|██████▌   | 326/500 [01:26<00:46,  3.77it/s]    \n"
     ]
    },
    {
     "name": "stdout",
     "output_type": "stream",
     "text": [
      "[2025-04-14 10:29:53] Solution 5: Length = 327\n"
     ]
    },
    {
     "name": "stderr",
     "output_type": "stream",
     "text": [
      "  y_min = 6.0, y_mean = 60.8, y_max = 67.0:  81%|████████▏ | 407/500 [01:46<00:24,  3.82it/s]    \n"
     ]
    },
    {
     "name": "stdout",
     "output_type": "stream",
     "text": [
      "[2025-04-14 10:31:42] Solution 6: Length = 408\n"
     ]
    },
    {
     "name": "stderr",
     "output_type": "stream",
     "text": [
      "  y_min = 367.5, y_mean = 373.0, y_max = 374.2:  70%|██████▉   | 349/500 [01:32<00:39,  3.78it/s]\n",
      "  y_min = 367.5, y_mean = 373.2, y_max = 374.8:  60%|██████    | 301/500 [01:19<00:52,  3.80it/s]\n",
      "  y_min = 399.5, y_mean = 411.0, y_max = 420.8:   4%|▎         | 18/500 [00:00<00:02, 168.20it/s]"
     ]
    },
    {
     "name": "stdout",
     "output_type": "stream",
     "text": [
      "[2025-04-14 10:34:37] Solution 7 not found\n"
     ]
    },
    {
     "name": "stderr",
     "output_type": "stream",
     "text": [
      "  y_min = 6.0, y_mean = 58.9, y_max = 65.8:  70%|███████   | 350/500 [01:32<00:39,  3.79it/s]    \n"
     ]
    },
    {
     "name": "stdout",
     "output_type": "stream",
     "text": [
      "[2025-04-14 10:36:11] Solution 8: Length = 351\n"
     ]
    },
    {
     "name": "stderr",
     "output_type": "stream",
     "text": [
      "  y_min = 6.1, y_mean = 58.8, y_max = 65.6:  51%|█████▏    | 257/500 [01:05<01:02,  3.90it/s]    \n"
     ]
    },
    {
     "name": "stdout",
     "output_type": "stream",
     "text": [
      "[2025-04-14 10:37:20] Solution 9: Length = 258\n",
      "Test completed in 1052.89s.\n",
      "Average solution length: 363.00.\n",
      "Solved 9/10 scrambles.\n",
      "Results saved to logs/test_p038-t000-rnd_1744423278_32_B1048576.json.\n",
      "[2025-04-14 10:37:22] Start testing with cuda:0.\n",
      "Group info:\n",
      "  # generators   4\n",
      "  # classes      30\n",
      "  state size     30\n",
      "Test dataset size: 10\n"
     ]
    },
    {
     "name": "stderr",
     "output_type": "stream",
     "text": [
      "  y_min = 363.8, y_mean = 370.8, y_max = 372.0:  49%|████▉     | 247/500 [01:05<01:06,  3.79it/s]\n",
      "  y_min = 365.2, y_mean = 371.2, y_max = 372.5:  66%|██████▌   | 331/500 [01:29<00:45,  3.72it/s]\n"
     ]
    },
    {
     "name": "stdout",
     "output_type": "stream",
     "text": [
      "[2025-04-14 10:40:00] Solution 0 not found\n"
     ]
    },
    {
     "name": "stderr",
     "output_type": "stream",
     "text": [
      "  y_min = 177.2, y_mean = 259.5, y_max = 270.5:  46%|████▌     | 229/500 [00:58<01:16,  3.54it/s]"
     ]
    }
   ],
   "source": [
    "for model_id in model_ids:\n",
    "    test_model(model_id, B=2**20, epoch=32)"
   ]
  },
  {
   "cell_type": "code",
   "execution_count": 92,
   "id": "82eca355",
   "metadata": {
    "ExecuteTime": {
     "end_time": "2025-04-14T08:11:24.012736Z",
     "start_time": "2025-04-14T08:11:23.982215Z"
    }
   },
   "outputs": [],
   "source": [
    "test_logs = {}\n",
    "for i in model_ids:\n",
    "    with open(f\"logs/test_p038-t000-rnd_{i}_1024_B1048576.json\") as f:\n",
    "        test_logs[i] = pd.DataFrame(json.load(f))"
   ]
  },
  {
   "cell_type": "code",
   "execution_count": 110,
   "id": "89f2afa3",
   "metadata": {
    "ExecuteTime": {
     "end_time": "2025-04-14T08:18:08.040139Z",
     "start_time": "2025-04-14T08:18:08.018866Z"
    }
   },
   "outputs": [
    {
     "name": "stdout",
     "output_type": "stream",
     "text": [
      "00 1744423278 0.0 10000 0.0010 3.6\n",
      "01 1744425283 0.0 10000 0.0010 3.6\n",
      "02 1744427287 0.0  1000 0.0010 3.6\n",
      "03 1744440932 0.3  1000 0.0010 3.6\n",
      "04 1744454785 0.7 10000 0.0010 1.3\n",
      "05 1744455851 1.0 10000 0.0010 1.3\n",
      "06 1744456910 0.4  1000 0.0010 1.3\n",
      "07 1744464279 0.2  1000 0.0010 1.3\n",
      "08 1744471368 0.0  1000 0.0001 3.6\n",
      "09 1744485557 0.0  1000 0.0001 3.6\n",
      "10 1744499104 0.0 10000 0.0001 3.6\n",
      "11 1744501093 0.0 10000 0.0001 3.6\n"
     ]
    }
   ],
   "source": [
    "for (j, i) in enumerate(model_ids):\n",
    "    with open(f\"logs/model_p038-t000_{i}.json\") as f:\n",
    "        info = json.load(f)\n",
    "    res = 1 - test_logs[i].solution_length.isna().mean()\n",
    "    print(f\"{j:02d}\", i, f\"{res:.1f}\", f\"{info['batch_size']:5d} {info['lr']:.4f} {info['num_parameters']/1e6:.1f}\")"
   ]
  },
  {
   "cell_type": "code",
   "execution_count": 105,
   "id": "eb966517",
   "metadata": {
    "ExecuteTime": {
     "end_time": "2025-04-14T08:14:56.131200Z",
     "start_time": "2025-04-14T08:14:56.110529Z"
    }
   },
   "outputs": [
    {
     "data": {
      "text/plain": [
       "{'epochs': 1024,\n",
       " 'batch_size': 10000,\n",
       " 'lr': 0.001,\n",
       " 'dropout': 0.0,\n",
       " 'optimizer': 'Adam',\n",
       " 'activation': 'relu',\n",
       " 'use_batch_norm': True,\n",
       " 'K_min': 1,\n",
       " 'K_max': 400,\n",
       " 'weights': '',\n",
       " 'device_id': 0,\n",
       " 'alpha': 1,\n",
       " 'group_id': 38,\n",
       " 'target_id': 0,\n",
       " 'hd1': 1024,\n",
       " 'hd2': 256,\n",
       " 'nrd': 1,\n",
       " 'model_name': 'p038-t000',\n",
       " 'model_mode': 'MLP2RB',\n",
       " 'model_id': 1744455851,\n",
       " 'num_parameters': 1320449}"
      ]
     },
     "execution_count": 105,
     "metadata": {},
     "output_type": "execute_result"
    }
   ],
   "source": [
    "i = model_ids[5]\n",
    "with open(f\"logs/model_p038-t000_{i}.json\") as f:\n",
    "    info = json.load(f)\n",
    "df_train = pd.read_csv(f\"logs/train_p038-t000_{i}.csv\")\n",
    "info"
   ]
  },
  {
   "cell_type": "code",
   "execution_count": null,
   "id": "aead0456",
   "metadata": {
    "ExecuteTime": {
     "start_time": "2025-04-14T09:17:18.701Z"
    }
   },
   "outputs": [],
   "source": [
    "1+1"
   ]
  },
  {
   "cell_type": "code",
   "execution_count": null,
   "id": "dbab2fc7",
   "metadata": {},
   "outputs": [],
   "source": []
  },
  {
   "cell_type": "code",
   "execution_count": null,
   "id": "abc6f8ca",
   "metadata": {},
   "outputs": [],
   "source": []
  }
 ],
 "metadata": {
  "kernelspec": {
   "display_name": "Python (ka1242_env)",
   "language": "python",
   "name": "ka1242_env"
  },
  "language_info": {
   "codemirror_mode": {
    "name": "ipython",
    "version": 3
   },
   "file_extension": ".py",
   "mimetype": "text/x-python",
   "name": "python",
   "nbconvert_exporter": "python",
   "pygments_lexer": "ipython3",
   "version": "3.9.16"
  }
 },
 "nbformat": 4,
 "nbformat_minor": 5
}
