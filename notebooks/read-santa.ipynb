{
 "cells": [
  {
   "cell_type": "code",
   "execution_count": 1,
   "id": "96fd7689",
   "metadata": {
    "ExecuteTime": {
     "end_time": "2025-04-08T14:59:41.008718Z",
     "start_time": "2025-04-08T14:59:38.683598Z"
    }
   },
   "outputs": [],
   "source": [
    "import torch\n",
    "import numpy as np\n",
    "import pandas as pd\n",
    "\n",
    "import matplotlib.pyplot as plt\n",
    "plt.rcParams[\"font.family\"] = \"serif\"\n",
    "\n",
    "import json\n",
    "from math import log2, ceil\n",
    "from tqdm import tqdm"
   ]
  },
  {
   "cell_type": "code",
   "execution_count": 2,
   "id": "d36a56d4",
   "metadata": {
    "ExecuteTime": {
     "end_time": "2025-04-08T14:59:41.087106Z",
     "start_time": "2025-04-08T14:59:41.011826Z"
    }
   },
   "outputs": [],
   "source": [
    "puzzle_info = pd.read_csv(\"puzzle_info.csv\")\n",
    "puzzles = pd.read_csv(\"puzzles.csv\")\n",
    "mask_wildcards = puzzles.num_wildcards==0\n",
    "puzzles = puzzles[mask_wildcards]\n",
    "puzzles_list = list(puzzles.puzzle_type.unique())"
   ]
  },
  {
   "cell_type": "code",
   "execution_count": 3,
   "id": "5f8c7641",
   "metadata": {
    "ExecuteTime": {
     "end_time": "2025-04-08T14:59:41.101253Z",
     "start_time": "2025-04-08T14:59:41.089385Z"
    },
    "scrolled": true
   },
   "outputs": [
    {
     "data": {
      "text/plain": [
       "cube_3/3/3       99\n",
       "cube_4/4/4       50\n",
       "cube_2/2/2       30\n",
       "cube_5/5/5       27\n",
       "wreath_6/6       15\n",
       "wreath_7/7       13\n",
       "globe_3/4        10\n",
       "globe_1/8         9\n",
       "globe_3/33        7\n",
       "cube_6/6/6        7\n",
       "wreath_12/12      7\n",
       "wreath_21/21      5\n",
       "cube_10/10/10     4\n",
       "cube_7/7/7        4\n",
       "globe_6/4         4\n",
       "globe_6/8         4\n",
       "cube_8/8/8        3\n",
       "cube_19/19/19     3\n",
       "cube_33/33/33     3\n",
       "cube_9/9/9        3\n",
       "globe_1/16        3\n",
       "globe_2/6         3\n",
       "wreath_33/33      2\n",
       "globe_8/25        2\n",
       "globe_6/10        1\n",
       "Name: puzzle_type, dtype: int64"
      ]
     },
     "execution_count": 3,
     "metadata": {},
     "output_type": "execute_result"
    }
   ],
   "source": [
    "puzzles.puzzle_type.value_counts()"
   ]
  },
  {
   "cell_type": "markdown",
   "id": "e153d625",
   "metadata": {},
   "source": [
    "## Save generators"
   ]
  },
  {
   "cell_type": "code",
   "execution_count": 17,
   "id": "68696dd0",
   "metadata": {
    "ExecuteTime": {
     "end_time": "2025-04-08T15:04:03.499473Z",
     "start_time": "2025-04-08T15:04:01.614073Z"
    },
    "scrolled": false
   },
   "outputs": [
    {
     "name": "stdout",
     "output_type": "stream",
     "text": [
      "p   | puzzle           | #actions | # santa states   | # unique elements |\n",
      "000 | cube_2/2/2       |  12      | [20, 5, 5]       | [6, 24, 6]        |\n",
      "001 | cube_3/3/3       |  18      | [82, 10, 7]      | [6, 6, 54]        |\n",
      "002 | cube_4/4/4       |  24      | [43, 4, 3]       | [6, 6, 96]        |\n",
      "003 | cube_5/5/5       |  30      | [19, 5, 3]       | [6, 6, 150]       |\n",
      "004 | cube_6/6/6       |  36      | [6, 1]           | [6, 6]            |\n",
      "005 | cube_7/7/7       |  42      | [4]              | [6]               |\n",
      "006 | cube_8/8/8       |  48      | [3]              | [6]               |\n",
      "007 | cube_9/9/9       |  54      | [3]              | [6]               |\n",
      "008 | cube_10/10/10    |  60      | [4]              | [6]               |\n",
      "009 | cube_19/19/19    | 114      | [3]              | [6]               |\n",
      "010 | cube_33/33/33    | 198      | [1, 1, 1]        | [6, 6, 6534]      |\n",
      "011 | wreath_6/6       |   4      | [15]             | [3]               |\n",
      "012 | wreath_7/7       |   4      | [13]             | [3]               |\n",
      "013 | wreath_12/12     |   4      | [7]              | [3]               |\n",
      "014 | wreath_21/21     |   4      | [5]              | [3]               |\n",
      "015 | wreath_33/33     |   4      | [2]              | [3]               |\n",
      "016 | wreath_100/100   |   4      | []               | []                |\n",
      "017 | globe_1/8        |  36      | [5, 4]           | [16, 32]          |\n",
      "018 | globe_1/16       |  68      | [3]              | [16]              |\n",
      "019 | globe_2/6        |  30      | [3]              | [12]              |\n",
      "020 | globe_3/4        |  24      | [7, 3]           | [8, 32]           |\n",
      "021 | globe_6/4        |  30      | [4]              | [12]              |\n",
      "022 | globe_6/8        |  46      | [4]              | [24]              |\n",
      "023 | globe_6/10       |  54      | [1]              | [15]              |\n",
      "024 | globe_3/33       | 140      | [5, 2]           | [22, 264]         |\n",
      "025 | globe_8/25       | 118      | [2]              | [30]              |\n"
     ]
    }
   ],
   "source": [
    "print(f\"p   | {'puzzle':16s} | #actions | # santa states   | # unique elements |\")\n",
    "for j in range(puzzle_info.shape[0]):\n",
    "    allowed_moves = eval(puzzle_info.iloc[j].allowed_moves)\n",
    "    actions = [v for (k, v) in allowed_moves.items()]\n",
    "    names = [k for (k, v) in allowed_moves.items()]\n",
    "\n",
    "    actions += [list(np.argsort(a)) for a in actions]\n",
    "    names += [name + \"'\" for name in names]\n",
    "\n",
    "    actions = [[int(i) for i in p] for p in actions]\n",
    "\n",
    "    generators = {'actions':actions, 'names':names}\n",
    "        \n",
    "    puzzle = puzzle_info.puzzle_type.iloc[j]\n",
    "    solution_states = puzzles[puzzles.puzzle_type == puzzle].solution_state.unique()\n",
    "    \n",
    "    with open(f'../generators/p{j:03d}.json', 'w') as f:\n",
    "        json.dump(generators, f)\n",
    "    \n",
    "    print(f\"{j:03d} | {puzzle_info.iloc[j].puzzle_type:16s} | {len(actions):3d}      | {str(puzzles[puzzles.puzzle_type == puzzle].solution_state.value_counts().to_list()):16s} | {str([np.unique(s.split(';')).shape[0] for s in solution_states]):17s} |\")"
   ]
  },
  {
   "cell_type": "markdown",
   "id": "d0343c02",
   "metadata": {},
   "source": [
    "## Save datasets"
   ]
  },
  {
   "cell_type": "code",
   "execution_count": 5,
   "id": "5584b854",
   "metadata": {
    "ExecuteTime": {
     "end_time": "2025-04-08T14:59:43.595698Z",
     "start_time": "2025-04-08T14:59:43.590058Z"
    }
   },
   "outputs": [],
   "source": [
    "def generate_inverse_moves(moves):\n",
    "    \"\"\"Generate the inverse moves for a given list of moves.\"\"\"\n",
    "    inverse_moves = [0] * len(moves)\n",
    "    for i, move in enumerate(moves):\n",
    "        if \"'\" in move:  # It's an a_j'\n",
    "            inverse_moves[i] = moves.index(move.replace(\"'\", \"\"))\n",
    "        else:  # It's an a_j\n",
    "            inverse_moves[i] = moves.index(move + \"'\")\n",
    "    return inverse_moves\n",
    "\n",
    "def random_step(states, last_moves):\n",
    "    \"\"\"Perform a random step while avoiding inverse moves.\"\"\"\n",
    "    possible_moves = torch.ones((states.size(0), all_moves.size(0)), dtype=torch.bool)\n",
    "    possible_moves[torch.arange(states.size(0)), inverse_moves[last_moves]] = False\n",
    "    next_moves = torch.multinomial(possible_moves.float(), 1).squeeze()\n",
    "    new_states = torch.gather(states, 1, all_moves[next_moves])\n",
    "    return new_states, next_moves"
   ]
  },
  {
   "cell_type": "code",
   "execution_count": 6,
   "id": "0e92a290",
   "metadata": {
    "ExecuteTime": {
     "end_time": "2025-04-08T15:00:49.377031Z",
     "start_time": "2025-04-08T14:59:43.597670Z"
    }
   },
   "outputs": [
    {
     "name": "stdout",
     "output_type": "stream",
     "text": [
      "025.000\r"
     ]
    }
   ],
   "source": [
    "for j in range(puzzle_info.shape[0]):\n",
    "    solution_states = puzzles[puzzles.puzzle_type == puzzle_info.puzzle_type.iloc[j]].solution_state.unique()\n",
    "    puzzles_j = puzzles[puzzles.puzzle_type == puzzle_info.puzzle_type.iloc[j]]\n",
    "\n",
    "    with open(f'../generators/p{j:03d}.json', 'r') as f:\n",
    "        all_moves, move_names = json.load(f).values()\n",
    "        all_moves = torch.tensor(all_moves, dtype=torch.int64)\n",
    "\n",
    "    for k in range(len(solution_states)):\n",
    "        solution_state = solution_states[k].split(\";\")\n",
    "        e2n = {e:j for (j, e) in enumerate(np.unique(solution_state))}\n",
    "        solution_state = [e2n[e] for e in solution_state]\n",
    "        initial_states = puzzles_j[puzzles_j.solution_state == solution_states[k]].initial_state.to_list()\n",
    "        initial_states = [[e2n[e] for e in state.split(\";\")] for state in initial_states]\n",
    "\n",
    "        # 8, 16, 32, 64\n",
    "        # 3, 4, 5, 6\n",
    "        num_elements = max(e2n.values())\n",
    "        b = max(3, ceil(log2(log2(num_elements))))\n",
    "        dtype = {3:torch.int8, 4:torch.int16, 5:torch.int32, 6:torch.int64}[b]\n",
    "\n",
    "        if num_elements >= 2**(2**b-1):\n",
    "            shift = 2**(2**b-1)\n",
    "        else:\n",
    "            shift = 0\n",
    "\n",
    "        solution_state = torch.tensor(np.array(solution_state) - shift, dtype=dtype)\n",
    "        initial_states = torch.tensor(np.array(initial_states) - shift, dtype=dtype)\n",
    "\n",
    "        inverse_moves = torch.tensor(generate_inverse_moves(move_names), dtype=torch.int64)\n",
    "\n",
    "        N = 100\n",
    "        last_moves = torch.full((N,), -1, dtype=torch.int64)\n",
    "        rnd_states = solution_state[None].expand(N, -1)\n",
    "\n",
    "        for _ in range(10_000):\n",
    "            rnd_states, last_moves = random_step(rnd_states, last_moves)\n",
    "\n",
    "        mask = torch.randint(0, 2, (N,), dtype=torch.bool)\n",
    "        rnd_states[mask], _ = random_step(rnd_states[mask], last_moves[mask])\n",
    "\n",
    "        torch.save(rnd_states, f\"../datasets/p{j:03d}-t{k:03d}-rnd.pt\")\n",
    "        torch.save(initial_states, f\"../datasets/p{j:03d}-t{k:03d}-santa.pt\")\n",
    "        torch.save(solution_state, f\"../targets/p{j:03d}-t{k:03d}.pt\")\n",
    "        \n",
    "        print(f\"{j:03d}.{k:03d}\", end='\\r')"
   ]
  },
  {
   "cell_type": "code",
   "execution_count": null,
   "id": "1dae6991",
   "metadata": {},
   "outputs": [],
   "source": []
  }
 ],
 "metadata": {
  "kernelspec": {
   "display_name": "Python (ka1242_env)",
   "language": "python",
   "name": "ka1242_env"
  },
  "language_info": {
   "codemirror_mode": {
    "name": "ipython",
    "version": 3
   },
   "file_extension": ".py",
   "mimetype": "text/x-python",
   "name": "python",
   "nbconvert_exporter": "python",
   "pygments_lexer": "ipython3",
   "version": "3.9.16"
  }
 },
 "nbformat": 4,
 "nbformat_minor": 5
}
